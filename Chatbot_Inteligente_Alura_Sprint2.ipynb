{
  "nbformat": 4,
  "nbformat_minor": 0,
  "metadata": {
    "colab": {
      "provenance": [],
      "collapsed_sections": [
        "9A2oSLDivrbN",
        "qQEIdACV2IE4",
        "kDRIGcy62JuE",
        "_RnqKO9ChOpY",
        "IVJ6UmQV3n4T"
      ],
      "include_colab_link": true
    },
    "kernelspec": {
      "name": "python3",
      "display_name": "Python 3"
    },
    "language_info": {
      "name": "python"
    }
  },
  "cells": [
    {
      "cell_type": "markdown",
      "metadata": {
        "id": "view-in-github",
        "colab_type": "text"
      },
      "source": [
        "<a href=\"https://colab.research.google.com/github/JulioLaz/chatbot_spring_02/blob/main/Chatbot_Inteligente_Alura_Sprint2.ipynb\" target=\"_parent\"><img src=\"https://colab.research.google.com/assets/colab-badge.svg\" alt=\"Open In Colab\"/></a>"
      ]
    },
    {
      "cell_type": "markdown",
      "source": [
        "# 1. Configurar ambiente"
      ],
      "metadata": {
        "id": "9A2oSLDivrbN"
      }
    },
    {
      "cell_type": "code",
      "execution_count": 1,
      "metadata": {
        "id": "UD0OObFGtZVJ",
        "colab": {
          "base_uri": "https://localhost:8080/"
        },
        "outputId": "288769cf-c0f3-4410-8507-a8906ba14730"
      },
      "outputs": [
        {
          "output_type": "stream",
          "name": "stdout",
          "text": [
            "2023-09-29 14:52:10.127047: W tensorflow/compiler/tf2tensorrt/utils/py_utils.cc:38] TF-TRT Warning: Could not find TensorRT\n",
            "Collecting es-core-news-md==3.6.0\n",
            "  Downloading https://github.com/explosion/spacy-models/releases/download/es_core_news_md-3.6.0/es_core_news_md-3.6.0-py3-none-any.whl (42.3 MB)\n",
            "\u001b[2K     \u001b[90m━━━━━━━━━━━━━━━━━━━━━━━━━━━━━━━━━━━━━━━━\u001b[0m \u001b[32m42.3/42.3 MB\u001b[0m \u001b[31m13.2 MB/s\u001b[0m eta \u001b[36m0:00:00\u001b[0m\n",
            "\u001b[?25hRequirement already satisfied: spacy<3.7.0,>=3.6.0 in /usr/local/lib/python3.10/dist-packages (from es-core-news-md==3.6.0) (3.6.1)\n",
            "Requirement already satisfied: spacy-legacy<3.1.0,>=3.0.11 in /usr/local/lib/python3.10/dist-packages (from spacy<3.7.0,>=3.6.0->es-core-news-md==3.6.0) (3.0.12)\n",
            "Requirement already satisfied: spacy-loggers<2.0.0,>=1.0.0 in /usr/local/lib/python3.10/dist-packages (from spacy<3.7.0,>=3.6.0->es-core-news-md==3.6.0) (1.0.4)\n",
            "Requirement already satisfied: murmurhash<1.1.0,>=0.28.0 in /usr/local/lib/python3.10/dist-packages (from spacy<3.7.0,>=3.6.0->es-core-news-md==3.6.0) (1.0.9)\n",
            "Requirement already satisfied: cymem<2.1.0,>=2.0.2 in /usr/local/lib/python3.10/dist-packages (from spacy<3.7.0,>=3.6.0->es-core-news-md==3.6.0) (2.0.7)\n",
            "Requirement already satisfied: preshed<3.1.0,>=3.0.2 in /usr/local/lib/python3.10/dist-packages (from spacy<3.7.0,>=3.6.0->es-core-news-md==3.6.0) (3.0.8)\n",
            "Requirement already satisfied: thinc<8.2.0,>=8.1.8 in /usr/local/lib/python3.10/dist-packages (from spacy<3.7.0,>=3.6.0->es-core-news-md==3.6.0) (8.1.12)\n",
            "Requirement already satisfied: wasabi<1.2.0,>=0.9.1 in /usr/local/lib/python3.10/dist-packages (from spacy<3.7.0,>=3.6.0->es-core-news-md==3.6.0) (1.1.2)\n",
            "Requirement already satisfied: srsly<3.0.0,>=2.4.3 in /usr/local/lib/python3.10/dist-packages (from spacy<3.7.0,>=3.6.0->es-core-news-md==3.6.0) (2.4.7)\n",
            "Requirement already satisfied: catalogue<2.1.0,>=2.0.6 in /usr/local/lib/python3.10/dist-packages (from spacy<3.7.0,>=3.6.0->es-core-news-md==3.6.0) (2.0.9)\n",
            "Requirement already satisfied: typer<0.10.0,>=0.3.0 in /usr/local/lib/python3.10/dist-packages (from spacy<3.7.0,>=3.6.0->es-core-news-md==3.6.0) (0.9.0)\n",
            "Requirement already satisfied: pathy>=0.10.0 in /usr/local/lib/python3.10/dist-packages (from spacy<3.7.0,>=3.6.0->es-core-news-md==3.6.0) (0.10.2)\n",
            "Requirement already satisfied: smart-open<7.0.0,>=5.2.1 in /usr/local/lib/python3.10/dist-packages (from spacy<3.7.0,>=3.6.0->es-core-news-md==3.6.0) (6.4.0)\n",
            "Requirement already satisfied: tqdm<5.0.0,>=4.38.0 in /usr/local/lib/python3.10/dist-packages (from spacy<3.7.0,>=3.6.0->es-core-news-md==3.6.0) (4.66.1)\n",
            "Requirement already satisfied: numpy>=1.15.0 in /usr/local/lib/python3.10/dist-packages (from spacy<3.7.0,>=3.6.0->es-core-news-md==3.6.0) (1.23.5)\n",
            "Requirement already satisfied: requests<3.0.0,>=2.13.0 in /usr/local/lib/python3.10/dist-packages (from spacy<3.7.0,>=3.6.0->es-core-news-md==3.6.0) (2.31.0)\n",
            "Requirement already satisfied: pydantic!=1.8,!=1.8.1,<3.0.0,>=1.7.4 in /usr/local/lib/python3.10/dist-packages (from spacy<3.7.0,>=3.6.0->es-core-news-md==3.6.0) (1.10.12)\n",
            "Requirement already satisfied: jinja2 in /usr/local/lib/python3.10/dist-packages (from spacy<3.7.0,>=3.6.0->es-core-news-md==3.6.0) (3.1.2)\n",
            "Requirement already satisfied: setuptools in /usr/local/lib/python3.10/dist-packages (from spacy<3.7.0,>=3.6.0->es-core-news-md==3.6.0) (67.7.2)\n",
            "Requirement already satisfied: packaging>=20.0 in /usr/local/lib/python3.10/dist-packages (from spacy<3.7.0,>=3.6.0->es-core-news-md==3.6.0) (23.1)\n",
            "Requirement already satisfied: langcodes<4.0.0,>=3.2.0 in /usr/local/lib/python3.10/dist-packages (from spacy<3.7.0,>=3.6.0->es-core-news-md==3.6.0) (3.3.0)\n",
            "Requirement already satisfied: typing-extensions>=4.2.0 in /usr/local/lib/python3.10/dist-packages (from pydantic!=1.8,!=1.8.1,<3.0.0,>=1.7.4->spacy<3.7.0,>=3.6.0->es-core-news-md==3.6.0) (4.5.0)\n",
            "Requirement already satisfied: charset-normalizer<4,>=2 in /usr/local/lib/python3.10/dist-packages (from requests<3.0.0,>=2.13.0->spacy<3.7.0,>=3.6.0->es-core-news-md==3.6.0) (3.2.0)\n",
            "Requirement already satisfied: idna<4,>=2.5 in /usr/local/lib/python3.10/dist-packages (from requests<3.0.0,>=2.13.0->spacy<3.7.0,>=3.6.0->es-core-news-md==3.6.0) (3.4)\n",
            "Requirement already satisfied: urllib3<3,>=1.21.1 in /usr/local/lib/python3.10/dist-packages (from requests<3.0.0,>=2.13.0->spacy<3.7.0,>=3.6.0->es-core-news-md==3.6.0) (2.0.4)\n",
            "Requirement already satisfied: certifi>=2017.4.17 in /usr/local/lib/python3.10/dist-packages (from requests<3.0.0,>=2.13.0->spacy<3.7.0,>=3.6.0->es-core-news-md==3.6.0) (2023.7.22)\n",
            "Requirement already satisfied: blis<0.8.0,>=0.7.8 in /usr/local/lib/python3.10/dist-packages (from thinc<8.2.0,>=8.1.8->spacy<3.7.0,>=3.6.0->es-core-news-md==3.6.0) (0.7.10)\n",
            "Requirement already satisfied: confection<1.0.0,>=0.0.1 in /usr/local/lib/python3.10/dist-packages (from thinc<8.2.0,>=8.1.8->spacy<3.7.0,>=3.6.0->es-core-news-md==3.6.0) (0.1.2)\n",
            "Requirement already satisfied: click<9.0.0,>=7.1.1 in /usr/local/lib/python3.10/dist-packages (from typer<0.10.0,>=0.3.0->spacy<3.7.0,>=3.6.0->es-core-news-md==3.6.0) (8.1.7)\n",
            "Requirement already satisfied: MarkupSafe>=2.0 in /usr/local/lib/python3.10/dist-packages (from jinja2->spacy<3.7.0,>=3.6.0->es-core-news-md==3.6.0) (2.1.3)\n",
            "\u001b[38;5;2m✔ Download and installation successful\u001b[0m\n",
            "You can now load the package via spacy.load('es_core_news_md')\n",
            "Requirement already satisfied: jellyfish in /usr/local/lib/python3.10/dist-packages (1.0.1)\n",
            "Requirement already satisfied: transformers in /usr/local/lib/python3.10/dist-packages (4.33.3)\n",
            "Requirement already satisfied: filelock in /usr/local/lib/python3.10/dist-packages (from transformers) (3.12.2)\n",
            "Requirement already satisfied: huggingface-hub<1.0,>=0.15.1 in /usr/local/lib/python3.10/dist-packages (from transformers) (0.17.3)\n",
            "Requirement already satisfied: numpy>=1.17 in /usr/local/lib/python3.10/dist-packages (from transformers) (1.23.5)\n",
            "Requirement already satisfied: packaging>=20.0 in /usr/local/lib/python3.10/dist-packages (from transformers) (23.1)\n",
            "Requirement already satisfied: pyyaml>=5.1 in /usr/local/lib/python3.10/dist-packages (from transformers) (6.0.1)\n",
            "Requirement already satisfied: regex!=2019.12.17 in /usr/local/lib/python3.10/dist-packages (from transformers) (2023.6.3)\n",
            "Requirement already satisfied: requests in /usr/local/lib/python3.10/dist-packages (from transformers) (2.31.0)\n",
            "Requirement already satisfied: tokenizers!=0.11.3,<0.14,>=0.11.1 in /usr/local/lib/python3.10/dist-packages (from transformers) (0.13.3)\n",
            "Requirement already satisfied: safetensors>=0.3.1 in /usr/local/lib/python3.10/dist-packages (from transformers) (0.3.3)\n",
            "Requirement already satisfied: tqdm>=4.27 in /usr/local/lib/python3.10/dist-packages (from transformers) (4.66.1)\n",
            "Requirement already satisfied: fsspec in /usr/local/lib/python3.10/dist-packages (from huggingface-hub<1.0,>=0.15.1->transformers) (2023.6.0)\n",
            "Requirement already satisfied: typing-extensions>=3.7.4.3 in /usr/local/lib/python3.10/dist-packages (from huggingface-hub<1.0,>=0.15.1->transformers) (4.5.0)\n",
            "Requirement already satisfied: charset-normalizer<4,>=2 in /usr/local/lib/python3.10/dist-packages (from requests->transformers) (3.2.0)\n",
            "Requirement already satisfied: idna<4,>=2.5 in /usr/local/lib/python3.10/dist-packages (from requests->transformers) (3.4)\n",
            "Requirement already satisfied: urllib3<3,>=1.21.1 in /usr/local/lib/python3.10/dist-packages (from requests->transformers) (2.0.4)\n",
            "Requirement already satisfied: certifi>=2017.4.17 in /usr/local/lib/python3.10/dist-packages (from requests->transformers) (2023.7.22)\n",
            "Requirement already satisfied: python-docx in /usr/local/lib/python3.10/dist-packages (0.8.11)\n",
            "Requirement already satisfied: lxml>=2.3.2 in /usr/local/lib/python3.10/dist-packages (from python-docx) (4.9.3)\n"
          ]
        },
        {
          "output_type": "stream",
          "name": "stderr",
          "text": [
            "[nltk_data] Downloading package punkt to /root/nltk_data...\n",
            "[nltk_data]   Package punkt is already up-to-date!\n"
          ]
        },
        {
          "output_type": "stream",
          "name": "stdout",
          "text": [
            "Drive already mounted at /content/drive; to attempt to forcibly remount, call drive.mount(\"/content/drive\", force_remount=True).\n"
          ]
        }
      ],
      "source": [
        "#Instalando bibliotecas\n",
        "import pandas as pd\n",
        "import re, os, random, pickle\n",
        "from sklearn.feature_extraction.text import TfidfVectorizer\n",
        "from sklearn.metrics.pairwise import cosine_similarity\n",
        "import spacy\n",
        "!python -m spacy download es_core_news_md\n",
        "!pip install jellyfish\n",
        "import jellyfish\n",
        "!pip install transformers\n",
        "from transformers import BertForSequenceClassification\n",
        "from transformers import BertTokenizer\n",
        "import torch\n",
        "!pip install python-docx\n",
        "from docx import Document\n",
        "import csv\n",
        "import nltk\n",
        "nltk.download('punkt')\n",
        "\n",
        "#Definiendo variables del proyecto:\n",
        "nlp = spacy.load('es_core_news_md')\n",
        "\n",
        "#Conectando al Google Drive\n",
        "from google.colab import drive\n",
        "drive.mount('/content/drive')\n",
        "folder = '/content/drive/MyDrive/Chatbot'"
      ]
    },
    {
      "cell_type": "markdown",
      "source": [
        "# 2. Importar verbos"
      ],
      "metadata": {
        "id": "qQEIdACV2IE4"
      }
    },
    {
      "cell_type": "code",
      "source": [
        "import pickle\n",
        "\n",
        "archivo_pickle_verbos = \"/content/drive/MyDrive/Chatbot/verbos/lista_verbos.pickle\"\n",
        "archivo_pickle_verbos_irregulares = \"/content/drive/MyDrive/Chatbot/verbos/verbos_irregulares.pickle\"\n",
        "\n",
        "# Importar la lista_verbos:\n",
        "with open(archivo_pickle_verbos, \"rb\") as verbos:\n",
        "        lista_verbos = pickle.load(verbos)\n",
        "\n",
        "# Importar el diccionario:\n",
        "with open(archivo_pickle_verbos_irregulares, \"rb\") as verbos_irregulares:\n",
        "        lista_verbos_irregulares = pickle.load(verbos_irregulares)\n",
        "\n",
        "\n",
        "print(lista_verbos)\n",
        "print('---------------------------------')\n",
        "print(lista_verbos_irregulares)"
      ],
      "metadata": {
        "id": "8DDVG_F22IvU",
        "colab": {
          "base_uri": "https://localhost:8080/"
        },
        "outputId": "80c5dc92-ff65-4f46-d7fd-94a644b48ca7"
      },
      "execution_count": 2,
      "outputs": [
        {
          "output_type": "stream",
          "name": "stdout",
          "text": [
            "['parar', 'recomendar', 'cancelar', 'fanatizar', 'amaran o amasen', 'exponer', 'obedecer', 'quejar', 'echar', 'legitimar', 'perjudicar', 'organizar', 'molar', 'objetar', 'considerar', 'golear', 'mover', 'acertar', 'reunir', 'regir', 'ilusionar', 'simpatizar', 'conjeturar', 'helar', 'quitar', 'amariamos', 'destacar', 'llegar', 'sincronizar', 'lesionar', 'seducir', 'asistir', 'conservar', 'acordar', 'salvar', 'relucir', 'graduar', 'forzar', 'dar', 'deplorar', 'batear', 'mofar', 'estropear', 'aplastar', 'wasapeo', 'gestionar', 'suprimir', 'gruñir', 'progresar', 'suscribir', 'noticiar', 'cavar', 'alejar', 'galopar', 'virar', 'medir', 'actualizar', 'humanizar', 'convivir', 'gratificar', 'digerir', 'tocar', 'zonificar', 'amariais', 'aterrizar', 'hojear', 'cometer', 'sufrir', 'reciclar', 'obturar', 'divertir', 'ondear', 'listar', 'determinar', 'alentar', 'sumar', 'reflexionar', 'ames', 'anotar', 'mitificar', 'escribir', 'ilustrar', 'obtener', 'subir', 'socorrer', 'desprender', 'agregar', 'gandulear', 'improvisar', 'traquetear', 'idealizar', 'pescar', 'despertarse', 'decorar', 'ceñir', 'asar', 'balbucear', 'noquear', 'amaremos', 'desconectar', 'tambalear', 'vengar', 'bolear', 'trabar', 'resplandecer', 'vagar', 'pasmar', 'susurrar', 'amamos', 'suceder', 'pelar', 'toser', 'preocupar', 'martillar', 'zarpar', 'repartir', 'costar', 'llenar', 'contradecir', 'trasplantar', 'embrujar', 'exonerar', 'wasapearia', 'fabular', 'alquilar', 'capturar', 'granular', 'instruir', 'roer', 'ufanarse', 'filtrar', 'pulsar', 'proporcionar', 'fijar', 'fallar', 'identificar', 'mermar', 'agradar', 'arder', 'desmerecer', 'arquear', 'desquitar', 'contar', 'pesar', 'rendir', 'exfoliar', 'gritar', 'hartar', 'pegar', 'irrumpir', 'resaltar', 'lagrimear', 'filosofar', 'perdonar', 'defender', 'zaherir', 'corromper', 'girar', 'titular', 'guadañar', 'evadir', 'traspasar', 'homenajear', 'dominar', 'variar', 'disminuir', 'wasapea', 'querellar', 'tiritar', 'excavar', 'opinar', 'comentar', 'prohibir', 'repasar', 'vislumbrar', 'alegrar', 'fotografiar', 'mosquear', 'hechizar', 'nadar', 'hastiar', 'recluyen', 'galvanizar', 'planificar', 'fisurar', 'fluctuar', 'comenzar', 'recrudecer', 'exagerar', 'colonizar', 'calcular', 'exterminar', 'desayunar', 'lamer', 'fluir', 'invadir', 'encantar', 'combinar', 'apagar', 'televisar', 'probar', 'aconsejar', 'necesitar', 'disparar', 'manejar', 'oxidar', 'devenir', 'ostentar', 'bucear', 'bautizar', 'moler', 'reir', 'crujir', 'shockear', 'nosotros', 'empezar', 'compensar', 'estatizar', 'alumbrar', 'formalizar', 'imaginar', 'construir', 'disuadir', 'iluminar', 'condimentar', 'estrenar', 'originar', 'abastecer', 'prolongar', 'usurar', 'inhalar', 'declinar', 'ensuciar', 'humillar', 'examinar', 'exteriorizar', 'amare', 'gobernar', 'tramar', 'oscilar', 'huir', 'esperar', 'infringir', 'predecir', 'wasapearian', 'alimentar', 'creer', 'niñear', 'zaparrastrar', 'quebrar', 'wasapeareis', 'almorzar', 'expresar', 'asentir', 'resolver', 'bailar', 'chocar', 'deprimir', 'obsequiar', 'sobrar', 'fluye', 'arañar', 'redimir', 'justiciar', 'acusar', 'robar', 'amaramos o amasemos', 'quemar', 'urdir', 'enamorarse', 'ocultar', 'salir', 'fantasear', 'ovacionar', 'apoyar', 'construyo', 'pedalear', 'galantear', 'lacrar', 'wasapearais o wasapeaseis', 'wasapeen', 'disentir', 'envejecer', 'radiar', 'asfixiar', 'bromear', 'amar', 'masacrar', 'representar', 'proclamar', 'alterar', 'incluyeran', 'inscribir', 'aligerar', 'querer', 'vapulear', 'traer', 'heredar', 'tararear', 'oscurecer', 'disminuyen', 'nutrir', 'oficializar', 'guiar', 'traducir', 'escoger', 'descarrilar', 'colorear', 'luchar', 'wasapeamos', 'ama', 'resarcir', 'convidar', 'liar', 'narrar', 'desconocer', 'ameis', 'protagonizar', 'refrescar', 'doblar', 'montar', 'ensayar', 'comer', 'obrar', 'fruncir', 'marinar', 'subrayar', 'replicar', 'teclear', 'auxiliar', 'litigar', 'sobrevivir', 'obstruir', 'vibrar', 'hablar', 'embestir', 'merendar', 'refutar', 'dirigir', 'hacinar', 'aspirar', 'propagar', 'sobreseer', 'educar', 'centrar', 'extender', 'redistribuya', 'plantar', 'aprobar', 'practicar', 'alarmar', 'bordar', 'instrumentar', 'universalizar', 'desteñir', 'glosar', 'magnificar', 'urgir', 'procurar', 'rebatir', 'quedar', 'razonar', 'macanear', 'renacer', 'repeler', 'fundir', 'rugir', 'subyacer', 'datar', 'incidir', 'frenar', 'negociar', 'definir', 'estallar', 'preexistir', 'turnar', 'caber', 'tranquilizar', 'disolver', 'localizar', 'varar', 'refaccionar', 'chupar', 'programar', 'zigzaguear', 'lookear', 'concluir', 'grisear', 'dividir', 'violentar', 'brincar', 'alborotar', 'dictar', 'casar', 'linchar', 'tricotar', 'temer', 'novelar', 'kickear', 'urbanizar', 'partir', 'mensurar', 'diferenciar', 'emancipar', 'wasapeasteis', 'aburrir', 'sacudir', 'confundir', 'añorar', 'constituyeran', 'ignorar', 'judicializar', 'solicitar', 'nasalizar', 'escuchar', 'desistir', 'esquiar', 'orar', 'cayo', 'bracear', 'herrumbrar', 'wasapean', 'destituyeron', 'trastornar', 'blindar', 'adquirir', 'distribuir', 'balancear', 'wasapeariais', 'instituyo', 'disimular', 'oxigenar', 'testimoniar', 'entusiasmar', 'desmentir', 'fragmentar', 'exhortar', 'felicitar', 'condicionar', 'vacunar', 'encontrar', 'mudar', 'mostrar', 'afilar', 'armar', 'concluyeron', 'mancillar', 'explotar', 'bajar', 'lacerar', 'chatear', 'diseñar', 'valuar', 'mecer', 'adorar', 'exigir', 'birlar', 'suplir', 'prevenir', 'registrar', 'terminar', 'jugar', 'aguardar', 'obviar', 'ellos', 'salar', 'higienizar', 'gatear', 'jerarquizar', 'presentar', 'yerran', 'hibernar', 'venir', 'clavar', 'olvidar', 'gimotear', 'asquear', 'roncar', 'wasapeariamos', 'resultar', 'vaciar', 'languidecer', 'intuyo', 'laquear', 'comprometer', 'enganchar', 'enquistar', 'entrar', 'nominar', 'impregnar', 'mutilar', 'fusilar', 'paralizar', 'tramitar', 'latir', 'vociferar', 'andar', 'arrojar', 'espirar', 'redactar', 'hornear', 'adornar', 'wasapeabas', 'ordenar', 'habilitar', 'prender', 'comerciar', 'transcribir', 'saciar', 'comunicar', 'maldecir', 'conectar', 'juntar', 'anexar', 'impresionar', 'conducir', 'cerrar', 'murmurar', 'firmar', 'merecer', 'neutralizar', 'consolidar', 'obnubilar', 'germinar', 'activar', 'comprar', 'wasapearias', 'reservar', 'sudar', 'atribuyo', 'nacionalizar', 'exhibir', 'yacer', 'contribuyan', 'impedir', 'familiarizar', 'intuir', 'exorcizar', 'obstaculizar', 'flotar', 'amaria', 'pasear', 'humedecer', 'barajar', 'dudar', 'celebrar', 'ayudar', 'adelantar', 'sepultar', 'jubilar', 'depositar', 'preservar', 'disfrazar', 'admitir', 'abatir', 'escalar', 'numerar', 'golpear', 'eliminar', 'llorisquear', 'estar', 'unir', 'sobresalir', 'exceptuar', 'amasteis', 'completar', 'expirar', 'glasear', 'lijar', 'obstruyen', 'expulsar', 'ofender', 'finalizar', 'restaurar', 'pisar', 'patinar', 'cepillar', 'lapidar', 'balar', 'crackear', 'huyeron', 'vaporizar', 'fastidiar', 'suponer', 'diluye', 'ocasionar', 'soler', 'implementar', 'parir', 'hemos wasapeado', 'llamar', 'estimar', 'reportar', 'satirizar', 'aproximar', 'leer', 'diluir', 'brindar', 'engordar', 'restablecer', 'retrasar', 'haya', 'enfriar', 'acariciar', 'vedar', 'lexicalizar', 'vos', 'equivocar', 'declarar', 'arrastrar', 'leñar', 'desafinar', 'garabatear', 'cambiar', 'yendo', 'deber', 'ofrecer', 'afinar', 'mendigar', 'confesar', 'gasificar', 'torcer', 'enchufar', 'incluir', 'retribuir', 'has wasapeado', 'sabotear', 'emitir', 'pillar', 'husmear', 'aportar', 'presumir', 'noblecer', 'privatizar', 'gravitar', 'rehusar', 'sobreexcitar', 'conseguir', 'recluir', 'explicitar', 'levar', 'tasar', 'reprochar', 'referir', 'usurpar', 'coincidir', 'rascar', 'maquillarse', 'distinguir', 'acabar', 'recordar', 'portar', 'presionar', 'aquejar', 'excitar', 'detener', 'amarian', 'garantizar', 'imprimir', 'atender', 'indisponer', 'destruir', 'aliñar', 'reclamar', 'volar', 'codificar', 'enamorar', 'desnudar', 'encender', 'menear', 'ventilar', 'puntualizar', 'pulir', 'sorprender', 'existir', 'tronar', 'maniatar', 'pinchar', 'abolir', 'ocluir', 'climatizar', 'fundar', 'inspirar', 'sonorizar', 'legar', 'migrar', 'notar', 'excretar', 'adjuntar', 'tatuar', 'elevar', 'fingir', 'solucionar', 'pronunciar', 'procesar', 'ulcerar', 'militarizar', 'amaran', 'dibujar', 'vestir', 'reconstruyeron', 'personalizar', 'revertir', 'retirar', 'concentrar', 'amenizar', 'editar', 'hilar', 'administrar', 'ejecutar', 'financiar', 'divorciar', 'borrar', 'vincular', 'sumergir', 'respetar', 'generar', 'afluyen', 'nortear', 'hermanar', 'competir', 'curtir', 'diferir', 'taladrar', 'favorecer', 'preguntar', 'calmar', 'malgastar', 'niquelar', 'pensar', 'malcriar', 'vayamos', 'sucumbir', 'detestar', 'retribuyan', 'complicar', 'reducir', 'aprovechar', 'integrar', 'zamarrear', 'rockear', 'depender', 'tintar', 'advertir', 'rozar', 'acotar', 'recuperar', 'ganar', 'culpar', 'liberar', 'recopilar', 'preferir', 'lucir', 'vacilar', 'ha wasapeado', 'optimizar', 'remplazar', 'saltar', 'lamentar', 'enojar', 'accionar', 'confiar', 'gotear', 'tallar', 'apostar', 'regalar', 'delinquir', 'ungir', 'enseñar', 'decidir', 'reaccionar', 'multiplicar', 'romper', 'untar', 'trotar', 'reflejar', 'enumerar', 'circular', 'wasapee', 'exiliar', 'honrar', 'suspirar', 'guillotinar', 'leyera', 'zorrear', 'encoger', 'avisar', 'calentar', 'asegurar', 'barnizar', 'hincar', 'abandonar', 'enhebrar', 'baldear', 'vivir', 'marear', 'fotocopiar', 'burbujear', 'relacionar', 'remitir', 'orquestar', 'pintar', 'plantear', 'fortalecer', 'concebir', 'situar', 'dimitir', 'matar', 'radicalizar', 'inferir', 'sostener', 'soportar', 'nacer', 'destruyo', 'perfeccionar', 'nominalizar', 'besar', 'destinar', 'exhalar', 'glorificar', 'ahorrar', 'criminalizar', 'empujar', 'conocer', 'conquistar', 'atar', 'movilizar', 'restar', 'coronar', 'sanar', 'acomodar', 'inhabilitar', 'trasladar', 'atribuir', 'estimular', 'tratar', 'fabricar', 'hipotecar', 'degustar', 'bifurcar', 'señalar', 'pretender', 'acostar', 'apreciar', 'contactar', 'lubricar', 'inaugurar', 'planear', 'grabar', 'fregar', 'llevar', 'aplicar', 'equiparar', 'gemir', 'stalkear', 'ultimar', 'acceder', 'descender', 'reproducir', 'mantener', 'funcionar', 'rodar', 'cantar', 'proyectar', 'coordinar', 'rejuvenecer', 'fomentar', 'entretener', 'absorber', 'interferir', 'conceder', 'volver', 'inspeccionar', 'molestar', 'pender', 'oler', 'escupir', 'influye', 'magullar', 'seguir', 'trabajar', 'abrazar', 'invitar', 'revelar', 'inclinar', 'osar', 'orientar', 'bostezar', 'realizar', 'ablandar', 'omitir', 'penetrar', 'sospechar', 'sobrescribir', 'negar', 'limar', 'entrenar', 'volcar', 'pelear', 'elegir', 'persuadir', 'ingresar', 'explorar', 'quintuplicar', 'admirar', 'granizar', 'cuidar', 'invocar', 'castellanizar', 'causar', 'estilizar', 'ingerir', 'equilibrar', 'discriminar', 'informar', 'beneficiar', 'augurar', 'eyectar', 'he wasapeado', 'liderar', 'alegrarse', 'frustrar', 'instruye', 'inventar', 'picar', 'enterar', 'pronosticar', 'recibir', 'zampar', 'exclamar', 'aprender', 'ella', 'laborar', 'recelar', 'menospreciar', 'reconquistar', 'vilipendiar', 'malhumorar', 'hallar', 'maquillar', 'saber', 'gravar', 'aflojar', 'tomar', 'excluir', 'operar', 'descubrir', 'extenuar', 'tensar', 'purificar', 'anular', 'ejercitar', 'tragar', 'concurrir', 'ultrajar', 'asociar', 'relatar', 'sumir', 'consultar', 'expender', 'madurar', 'despedir', 'nivelar', 'visitar', 'guisar', 'usufructuar', 'zanjar', 'vallar', 'vejar', 'enriquecer', 'zafar', 'estremecer', 'recorrer', 'broncear', 'obsesionar', 'oprimir', 'escapar', 'mejorar', 'otear', 'impartir', 'halagar', 'buscar', 'cultivar', 'saquear', 'donar', 'perfumar', 'eximir', 'remover', 'wasapeemos', 'acelerar', 'enfurecer', 'tardar', 'prometer', 'clarear', 'ocurrir', 'bombear', 'respirar', 'jactar', 'torturar', 'veranear', 'transportar', 'presentir', 'elaborar', 'indexar', 'ironizar', 'vetar', 'boicotear', 'meditar', 'estirar', 'negrear', 'descongelar', 'atacar', 'verter', 'soltar', 'wasapeaba', 'jadear', 'fertilizar', 'inmiscuyan', 'tolerar', 'iniciar', 'enfatizar', 'gesticular', 'vagabundear', 'regatear', 'devorar', 'cuchichear', 'zancadillear', 'sindicalizar', 'acreditar', 'tumbar', 'encuestar', 'excluyen', 'botar', 'instalar', 'apuntar', 'subdividir', 'alojar', 'tener', 'otorgar', 'rehuyo', 'apurar', 'freir', 'pregonar', 'vencer', 'complejizar', 'nevar', 'entrometer', 'herrar', 'malograr', 'wasapearan', 'suspender', 'acampar', 'hundir', 'prestar', 'ubicar', 'deletrear', 'responder', 'poseer', 'deponer', 'resfriarse', 'zalear', 'maravillar', 'optar', 'interponer', 'endurecer', 'fortificar', 'desatar', 'irradiar', 'wasapeare', 'reinar', 'excomulgar', 'vendar', 'cifrar', 'eludir', 'stockear', 'consumir', 'granjear', 'titilar', 'flaquear', 'requerir', 'yuxtaponer', 'tentar', 'aliviar', 'extraer', 'explayar', 'inundar', 'retorcer', 'sujetar', 'pulverizar', 'contextualizar', 'habitar', 'utilizar', 'rebobinar', 'holgazanear', 'wasapeeis', 'llover', 'abrochar', 'abusar', 'seleccionar', 'aguantar', 'wasapeara o wasapease', 'observar', 'ovular', 'gerenciar', 'repetir', 'amenazar', 'deteriorar', 'cesar', 'condenar', 'trazar', 'bramar', 'formar', 'almacenar', 'guerrear', 'destituir', 'lastimar', 'errar', 'violar', 'besuquear', 'mezclar', 'modelar', 'obligar', 'amen', 'importar', 'holgar', 'wasapeais', 'izar', 'jabonar', 'exasperar', 'disputar', 'dormir', 'agarrar', 'debatir', 'masajear', 'acompañar', 'wasapeas', 'chasquear', 'zambullir', 'encajar', 'denigrar', 'jalonar', 'juerguear', 'restituir', 'clasificar', 'afirmar', 'amaras o amases', 'remar', 'tirar', 'ligar', 'incumplir', 'moldear', 'decir', 'ajustar', 'madrugar', 'simbolizar', 'batir', 'traficar', 'empequeñecer', 'asesorar', 'wasapearan o wasapeasen', 'tender', 'escabullir', 'entrevistar', 'aquietar', 'aturdir', 'criticar', 'notificar', 'formular', 'marginar', 'quebrantar', 'intimidar', 'engrasar', 'proceder', 'zapar', 'flexibilizar', 'apartar', 'corresponder', 'elogiar', 'juguetear', 'lloviznar', 'judicar', 'atemorizar', 'reprender', 'ver', 'publicar', 'agotar', 'vosotros', 'mentir', 'inhibir', 'explicar', 'guiñar', 'abortar', 'transpirar', 'intervenir', 'sacrificar', 'marchar', 'ir', 'ladrar', 'traicionar', 'reconstituyo', 'animar', 'asomar', 'librar', 'zurcir', 'esquivar', 'lavar', 'renunciar', 'disculpar', 'grajear', 'emplear', 'simular', 'rellenar', 'enfermar', 'igualar', 'combatir', 'embellecer', 'injuriar', 'anunciar', 'amareis', 'desear', 'perder', 'someter', 'apelar', 'investigar', 'cuajar', 'desplazar', 'establecer', 'confluyan', 'embaucar', 'señalizar', 'orinar', 'arrestar', 'fallecer', 'hacer', 'interrumpir', 'voltear', 'complacer', 'sintonizar', 'amarais o amaseis', 'bañar', 'sonar', 'horadar', 'grillar', 'tejer', 'ustedes', 'imponer', 'caminar', 'macerar', 'expandir', 'zapatear', 'rechazar', 'herir', 'asustar', 'posar', 'encargar', 'aclarar', 'platicar', 'sextuplicar', 'venerar', 'relajar', 'encerrar', 'repercutir', 'viajar', 'embrollar', 'amais', 'entristecer', 'morir', 'callar', 'vitorear', 'galardonar', 'subsistir', 'devolver', 'divisar', 'acoger', 'hurgar', 'manipular', 'mediar', 'entorpecer', 'exceder', 'anhelar', 'trepar', 'humear', 'adaptar', 'cocinar', 'amara o amase', 'gambetear', 'uniformar', 'estornudar', 'abrir', 'introducir', 'atrever', 'licuar', 'festejar', 'odiar', 'agitar', 'percibir', 'analizar', 'satisfacer', 'hidratar', 'copiar', 'unisonar', 'acortar', 'triturar', 'interpretar', 'legalizar', 'valorar', 'dejar', 'gustar', 'hurtar', 'usar', 'intentar', 'brotar', 'bambolear', 'machucar', 'faltar', 'ellas', 'narcotizar', 'justificar', 'lograr', 'coleccionar', 'burlar', 'lindar', 'brillar', 'aislar', 'indicar', 'aplaudir', 'cosechar', 'sacar', 'falsificar', 'hackear', 'telefonear', 'asumir', 'marchitar', 'malherir', 'banalizar', 'extinguir', 'desaconsejar', 'comprender', 'proveer', 'manifestar', 'parpadear', 'trackear', 'derretir', 'deshacer', 'arreglar', 'peinar', 'emigrar', 'jactarse', 'carecer', 'saludar', 'balear', 'fracasar', 'reparar', 'saborear', 'colaborar', 'cansar', 'durar', 'menguar', 'protestar', 'influir', 'noviar', 'resistir', 'enredar', 'ensanchar', 'separar', 'tornear', 'afeitar', 'trajinar', 'boxear', 'habeis', 'adivinar', 'revolver', 'naufragar', 'batallar', 'oyeramos', 'bufar', 'flirtear', 'hospitalizar', 'ulular', 'demostrar', 'sugerir', 'mencionar', 'patear', 'normalizar', 'acosar', 'surtir', 'jaquear', 'profetizar', 'recurrir', 'nombrar', 'martirizar', 'esterilizar', 'cenar', 'fusionar', 'infundir', 'hostigar', 'prostituya', 'aumentar', 'amarias', 'fiar', 'fascinar', 'incrementar', 'desarrollar', 'extrañar', 'rodear', 'distraer', 'hipnotizar', 'cooperar', 'constatar', 'regresar', 'convencer', 'ceder', 'hilvanar', 'temperar', 'compartir', 'añadir', 'confirmar', 'reponer', 'envolver', 'sintetizar', 'atrasar', 'olfatear', 'desvestir', 'vigilar', 'hamacar', 'malentender', 'contestar', 'esclarecer', 'llamear', 'compilar', 'mojar', 'facilitar', 'estacionar', 'resumir', 'pedir', 'atenuar', 'renovar', 'oponer', 'envidiar', 'inmigrar', 'reconocer', 'expiar', 'bastar', 'descomponer', 'sustituir', 'ocupar', 'licenciar', 'afectar', 'recitar', 'zaracear', 'maniobrar', 'readmitir', 'inmiscuir', 'nacarar', 'zunchar', 'motivar', 'invertir', 'asesinar', 'difundir', 'participar', 'juzgar', 'cautivar', 'aceptar', 'convertir', 'preparar', 'horrorizar', 'nublar', 'equivaler', 'llorar', 'visualizar', 'impulsar', 'exportar', 'importunar', 'zumbar', 'inquietar', 'esclavizar', 'cubrir', 'retener', 'entrañar', 'irrigar', 'privar', 'excusar', 'objetivar', 'evitar', 'cazar', 'proponer', 'enloquecer', 'hinchar', 'incorporar', 'beber', 'naturalizar', 'acostumbrar', 'lanzar', 'incurrir', 'luxar', 'exaltar', 'rasquetear', 'fumar', 'conversar', 'interesar', 'curar', 'wasapearemos', 'valer', 'ame', 'bonificar', 'wasapearon', 'levantar', 'limpiar', 'vender', 'restringir', 'revisar', 'amas', 'candar', 'decepcionar', 'manotear', 'wasapees', 'medicar', 'florecer', 'liquidar', 'acoplar', 'hospedar', 'soñar', 'esconder', 'tostar', 'oir', 'inyectar', 'vomitar', 'persistir', 'hachar', 'verificar', 'transferir', 'controlar', 'graznar', 'piar', 'provocar', 'mirar', 'enfadar', 'recoger', 'trinar', 'votar', 'indagar', 'gastar', 'configurar', 'triunfar', 'sonreir', 'haber', 'amaron', 'descansar', 'rehacer', 'jinetear', 'malversar', 'opacar', 'habituar', 'poner', 'gestar', 'zarandear', 'victimizar', 'superar', 'babear', 'aterrar', 'ellas wasapeaban', 'justipreciar', 'lidiar', 'figurar', 'amaste', 'estudiar', 'gozar', 'poder', 'resbalar', 'intercambiar', 'citar', 'exprimir', 'facturar', 'ejercer', 'forrar', 'permitir', 'noctambular', 'intoxicar', 'capitular', 'contemplar', 'tapar', 'contratar', 'rezar', 'flamear', 'comparar', 'wasapearamos o wasapeasemos', 'comprimir', 'doler', 'servir', 'vaticinar', 'alunizar', 'bombardear', 'amaras', 'temblar', 'caldear', 'meter', 'proteger', 'describir', 'enviar', 'laminar', 'derribar', 'basar', 'exculpar', 'templar', 'sentir', 'congelar', 'correr', 'consistir', 'concientizar', 'asombrar', 'transmitir', 'ofertar', 'filmar', 'nuclear', 'rogar', 'wasapearas o wasapeases', 'charlar', 'legislar', 'relamer', 'retroceder', 'levitar', 'suplicar', 'empeñar', 'amara', 'crear', 'frotar', 'maquinar', 'cumplir', 'cortar', 'comportar', 'deducir', 'planchar', 'matricular', 'flexionar', 'caramelizar', 'modular', 'abonar', 'disfrutar', 'fraccionar', 'adoptar', 'afrontar', 'hisopar', 'detectar', 'polucionar', 'ladear', 'esquilar', 'borbotear', 'jurar', 'desviar', 'amo', 'exacerbar', 'insertar', 'guardar', 'nebulizar', 'experimentar', 'yerguen', 'soplar', 'han wasapeado', 'aman', 'hervir', 'cruzar', 'abordar', 'desquiciar', 'sustraer', 'idolatrar', 'ser', 'discutir', 'acudir', 'amemos', 'distribuyo', 'emprender', 'ojear', 'imitar', 'transformar', 'demoler', 'morder', 'musicalizar', 'sentar', 'navegar', 'interceder', 'dañar', 'coquetear', 'ningunear', 'expatriar', 'anticipar', 'barrer', 'engañar', 'guarecer', 'estresar', 'incomodar', 'homogeneizar', 'empobrecer', 'tropezar', 'validar', 'limitar', 'coser', 'wasapeabamos', 'argumentar', 'trocear', 'consentir', 'wasapeabais', 'censurar', 'zozobrar', 'refrigerar', 'disponer', 'jalar', 'wasapearas', 'enfervorizar', 'atrapar', 'entender', 'machacar', 'wasapeaste', 'heder', 'evolucionar', 'pasar', 'centralizar', 'hociquear', 'blanquear', 'parafrasear', 'homologar', 'sustituyeran', 'insistir', 'zoncear', 'zurrar', 'tripular', 'regular', 'tartamudear', 'apestar', 'refinar', 'manchar', 'mamar', 'vulnerar', 'bloquear', 'significar', 'insultar', 'cobrar', 'corregir', 'nausear', 'pagar', 'extorsionar', 'transcurrir', 'secar', 'unificar', 'wasapeaban', 'velar', 'contaminar', 'independizar']\n",
            "---------------------------------\n",
            "{'soy': 'ser', 'estuviste': 'estar', 'fuiste': 'ir', 'tuviste': 'tener', 'hiciste': 'hacer', 'dijiste': 'decir', 'dimar': 'decir', 'pudiste': 'poder', 'supiste': 'saber', 'pusiste': 'poner', 'viste': 'ver', 'diste': 'dar', 'damar': 'dar', 'viniste': 'venir', 'haya': 'haber', 'cupiste': 'caber', 'valiste': 'valer', 'quisiste': 'querer', 'llegaste': 'llegar', 'contaste': 'contar', 'cuesta': 'costar', 'duraste': 'durar', 'eres': 'ser', 'estas': 'estar', 'vas': 'ir', 'vaya': 'ir', 'tienes': 'tener', 'haces': 'hacer', 'dices': 'decir', 'dime': 'decir', 'puedes': 'poder', 'sabes': 'saber', 'pones': 'poner', 'ves': 'ver', 'das': 'dar', 'dame': 'dar', 'vienes': 'venir', 'has': 'haber', 'cabes': 'caber', 'vales': 'valer', 'quieres': 'querer', 'llegares': 'llegar', 'cuentas': 'contar', 'cuestan': 'costar', 'duro': 'durar', 'seras': 'ser', 'estaras': 'estar', 'iras': 'ir', 'tendras': 'tener', 'haras': 'hacer', 'diras': 'decir', 'digame': 'decir', 'podras': 'poder', 'sabras': 'saber', 'pondras': 'poner', 'veras': 'ver', 'daras': 'dar', 'vendras': 'venir', 'habras': 'haber', 'cabras': 'caber', 'valdras': 'valer', 'querras': 'querer', 'llegaras': 'llegar', 'contaras': 'contar', 'costo': 'costar', 'duraras': 'durar', 'eras': 'ser', 'estabas': 'estar', 'ibas': 'ir', 'tenias': 'tener', 'hacias': 'hacer', 'decias': 'decir', 'dimir': 'decir', 'podias': 'poder', 'sabias': 'saber', 'ponias': 'poner', 'veias': 'ver', 'dabas': 'dar', 'venias': 'venir', 'habias': 'haber', 'cabias': 'caber', 'valias': 'valer', 'querias': 'querer', 'llegarias': 'llegar', 'contabas': 'contar', 'costaria': 'costar', 'durabas': 'durar', 'es': 'ser', 'dimo': 'decir', 'darme': 'dar', 'hubiste': 'haber', 'cuentame': 'contar', 'costarian': 'costar', 'serias': 'ser', 'estarias': 'estar', 'irias': 'ir', 'tendrias': 'tener', 'harias': 'hacer', 'dirias': 'decir', 'dimiria': 'decir', 'podrias': 'poder', 'sabrias': 'saber', 'pondrias': 'poner', 'verias': 'ver', 'darias': 'dar', 'vendrias': 'venir', 'habrias': 'haber', 'cabrias': 'caber', 'valdrias': 'valer', 'querrias': 'querer', 'llegarrias': 'llegar', 'podria': 'poder', 'contarias': 'contar', 'cuestas': 'costar', 'durarias': 'durar'}\n"
          ]
        }
      ]
    },
    {
      "cell_type": "markdown",
      "source": [
        "#3. Tratamiento de datos"
      ],
      "metadata": {
        "id": "kDRIGcy62JuE"
      }
    },
    {
      "cell_type": "code",
      "source": [
        "#Función para encontrar la raiz de las palabras\n",
        "def raiz(palabra):\n",
        "    max_similitud = 0.0\n",
        "    for verbo in lista_verbos:\n",
        "        similitud = jellyfish.jaro_similarity(palabra, verbo)\n",
        "        if similitud > max_similitud:\n",
        "            max_similitud = similitud\n",
        "            palabra_encontrada = verbo\n",
        "\n",
        "    if max_similitud >= 0.93:\n",
        "        return palabra_encontrada\n",
        "    else:\n",
        "        return palabra\n",
        "\n",
        "def tratamiento_texto(texto):\n",
        "  trans = str.maketrans('áéíóú','aeiou')\n",
        "  texto = texto.lower()\n",
        "  texto = texto.translate(trans)\n",
        "  texto = re.sub(r\"[^\\w\\s+\\-*/]\", '', texto)\n",
        "  texto = \" \".join(texto.split())\n",
        "  # print('texto de tratamiento_texto: ',texto)\n",
        "  return texto\n",
        "\n",
        "#Función para reemplazar el final de una palabra por 'r'\n",
        "def reemplazar_terminacion(frase):\n",
        "    terminaciones = [\"es\", \"me\", \"as\", \"ste\", \"te\"]\n",
        "    palabras = frase.split()\n",
        "\n",
        "    for i, palabra in enumerate(palabras):\n",
        "        for terminacion in terminaciones:\n",
        "            if palabra.endswith(terminacion) and len(palabra) > len(terminacion):\n",
        "                palabras[i] = palabra[:-len(terminacion)] + \"r\"\n",
        "                break\n",
        "\n",
        "    nueva_frase = \" \".join(palabras)\n",
        "    return nueva_frase\n",
        "\n",
        "#Función para adicionar o eliminar tokens\n",
        "def revisar_tokens(texto, tokens):\n",
        "  texto=tratamiento_texto(texto)\n",
        "  if len(tokens)==0:\n",
        "    if any(name in texto for name in ['cientifico de datos', 'data scientist']):\n",
        "        tokens.append('datascientist')\n",
        "    if any(name in texto for name in ['elprofealejo', 'el profe alejo', 'profe alejo', 'profealejo']):\n",
        "        tokens.append('elprofealejo')\n",
        "    if any(name in texto for name in ['ciencia de datos', 'data science']):\n",
        "        tokens.append('datascience')\n",
        "  else:\n",
        "    elementos_a_eliminar = [\"cual\", \"que\", \"quien\", \"cuanto\", \"cuando\", \"como\"]\n",
        "    if 'hablame' in texto and 'hablar' in tokens: elementos_a_eliminar.append('hablar')\n",
        "    elif 'cuentame' in texto and 'contar' in tokens: elementos_a_eliminar.append('contar')\n",
        "    elif 'hago' in texto and 'hacer' in tokens: elementos_a_eliminar.append('hacer')\n",
        "    elif 'entiendes' in texto and 'entender' in tokens: elementos_a_eliminar.append('entender')\n",
        "    elif 'sabes' in texto and 'saber' in tokens: elementos_a_eliminar.append('saber')\n",
        "    tokens = [token for token in tokens if token not in elementos_a_eliminar]\n",
        "  return tokens\n",
        "\n",
        "#Función para devolver los tokens normalizados del texto\n",
        "def normalizar(texto):\n",
        "    tokens = []\n",
        "    tokens = revisar_tokens(texto, tokens)\n",
        "    doc = nlp(texto)\n",
        "    for t in doc:\n",
        "        # Obtener el lemma\n",
        "        lemma = lista_verbos_irregulares.get(t.text, t.lemma_)\n",
        "        # lemma=lista_verbos_irregulares.get(t.text, t.lemma_.split()[0])\n",
        "\n",
        "        # Verificar si lemma es una cadena no vacía\n",
        "        if lemma and isinstance(lemma, str):\n",
        "            lemma = re.sub(r'[^\\w\\s+\\-*/]', '', lemma)\n",
        "\n",
        "            if t.pos_ in ('VERB','PROPN','PRON','NOUN','AUX','SCONJ','ADJ','ADV','NUM') or lemma in lista_verbos:\n",
        "                if t.pos_ == 'VERB':\n",
        "                    lemma = reemplazar_terminacion(lemma)\n",
        "                    tokens.append(raiz(tratamiento_texto(lemma)))\n",
        "                else:\n",
        "                    tokens.append(tratamiento_texto(lemma))\n",
        "\n",
        "    tokens = list(dict.fromkeys(tokens))\n",
        "    tokens = list(filter(None, tokens))\n",
        "    tokens = revisar_tokens(texto, tokens)\n",
        "    tokens_str = str(tokens)\n",
        "    # print('tokens: ',tokens_str)\n",
        "    return tokens_str\n"
      ],
      "metadata": {
        "id": "N-__6F0I2MjG"
      },
      "execution_count": 3,
      "outputs": []
    },
    {
      "cell_type": "code",
      "source": [
        "normalizar(\"profe alejo cientifico de datos\")"
      ],
      "metadata": {
        "colab": {
          "base_uri": "https://localhost:8080/",
          "height": 36
        },
        "id": "8sMDNXp3QHj3",
        "outputId": "d218ca50-5541-4e1a-fc94-dbd6614d80b2"
      },
      "execution_count": 4,
      "outputs": [
        {
          "output_type": "execute_result",
          "data": {
            "text/plain": [
              "\"['datascientist', 'elprofealejo', 'profe', 'alejo', 'cientifico', 'dato']\""
            ],
            "application/vnd.google.colaboratory.intrinsic+json": {
              "type": "string"
            }
          },
          "metadata": {},
          "execution_count": 4
        }
      ]
    },
    {
      "cell_type": "markdown",
      "source": [
        "# 4. Cargar bases de documentos"
      ],
      "metadata": {
        "id": "_RnqKO9ChOpY"
      }
    },
    {
      "cell_type": "code",
      "source": [
        "#Importando bases de dialogo fluído\n",
        "txt_folder_path = folder+'/dialogos'\n",
        "lista_documentos=[x for x in os.listdir(txt_folder_path) if x.endswith(\".txt\")]\n",
        "lista_dialogos, lista_dialogos_respuesta, lista_tipo_dialogo = [],[],[]\n",
        "for idx in range(len(lista_documentos)):\n",
        "  f=open(txt_folder_path+'/'+lista_documentos[idx], 'r', encoding='utf-8', errors='ignore')\n",
        "  estado = True\n",
        "  for line in f.read().split('\\n'):\n",
        "    if estado:\n",
        "      line_tratado = tratamiento_texto(line)\n",
        "      lista_dialogos.append(line_tratado)\n",
        "      lista_tipo_dialogo.append(lista_documentos[idx][:-4])\n",
        "    else:\n",
        "      lista_dialogos_respuesta.append(line)\n",
        "    estado=not estado\n",
        "\n",
        "#Creando Dataframe de diálogos\n",
        "datos = {'dialogo':lista_dialogos,'respuesta':lista_dialogos_respuesta,'tipo':lista_tipo_dialogo,'interseccion':0,'jaro_winkler':0,'probabilidad':0}\n",
        "df_dialogo = pd.DataFrame(datos)\n",
        "df_dialogo = df_dialogo.drop_duplicates(keep='first')\n",
        "df_dialogo.reset_index(drop=True, inplace=True)\n",
        "\n",
        "#Importando bases csv\n",
        "txt_folder_path = folder+'/documentos'\n",
        "lista_documentos=[x for x in os.listdir(txt_folder_path) if x.endswith(\".csv\")]\n",
        "documento_csv = ''\n",
        "for i in range(len(lista_documentos)):\n",
        "  with open(txt_folder_path+'/'+lista_documentos[i], \"r\", encoding=\"utf-8\") as csv_txt:\n",
        "    csv_text = csv.reader(csv_txt)\n",
        "    for fila in csv_text:\n",
        "      if fila[-1]!='frase':\n",
        "        documento_csv += fila[-1]\n",
        "\n",
        "#Importando bases docx\n",
        "lista_documentos=[x for x in os.listdir(txt_folder_path) if x.endswith(\".docx\")]\n",
        "documento_docx = ''\n",
        "for i in range(len(lista_documentos)):\n",
        "  for t in Document(txt_folder_path+'/'+lista_documentos[i]).paragraphs:\n",
        "    documento_docx += t.text.replace('*','\\n\\n*')+ \"\\n\"\n",
        "    # documento_docx += t.text.replace('*','\\n\\n*').replace('-','\\n-')\n",
        "    # documento_docx += documento_docx + \"\\n\"\n",
        "\n",
        "#Importando bases txt\n",
        "lista_documentos=[x for x in os.listdir(txt_folder_path) if x.endswith(\".txt\")]\n",
        "documento_txt = ''\n",
        "for i in range(len(lista_documentos)):\n",
        "  with open(txt_folder_path+'/'+lista_documentos[i], \"r\", encoding=\"utf-8\") as txt:\n",
        "    txt_new = txt.read()\n",
        "    for i in txt_new:\n",
        "      documento_txt += i\n",
        "# print('documento_csv: ',documento_csv)\n",
        "# print('------------------------------------------------------------------------------')\n",
        "# print('documento_docx: ', documento_docx)\n",
        "# print('------------------------------------------------------------------------------')\n",
        "# print('documento_txt: ', documento_txt)\n"
      ],
      "metadata": {
        "id": "1894SyvPhQJ0"
      },
      "execution_count": 5,
      "outputs": []
    },
    {
      "cell_type": "code",
      "source": [
        "# documento = documento_csv + documento_txt + documento_docx\n",
        "documento = documento_txt+documento_docx+documento_csv\n",
        "lista_frases = nltk.sent_tokenize(documento,'spanish')\n",
        "lista_frases_normalizadas = [''.join(str(normalizar(x))) for x in lista_frases]"
      ],
      "metadata": {
        "id": "Qc_ciUZTVKrp"
      },
      "execution_count": 6,
      "outputs": []
    },
    {
      "cell_type": "code",
      "source": [
        "print(lista_frases)\n",
        "print(lista_frases_normalizadas)"
      ],
      "metadata": {
        "colab": {
          "base_uri": "https://localhost:8080/"
        },
        "id": "hhlCjtTEKiWL",
        "outputId": "2efa98a8-d225-4ca9-94ac-0c9a2ac00082"
      },
      "execution_count": 7,
      "outputs": [
        {
          "output_type": "stream",
          "name": "stdout",
          "text": [
            "['La ciencia de datos es un campo académico interdisciplinario que utiliza estadística, computación científica, métodos, procesos, algoritmos y sistemas científicos para obtener (recolectar o extraer), tratar, analizar y presentar informes a partir de datos ruidosos, estructurados y no estructurados.', 'La ciencia de datos es multifacética y puede describirse como una ciencia, un paradigma de investigación, un método de investigación, una disciplina, un flujo de trabajo o una profesión.', 'La ciencia de datos integra el conocimiento del dominio de la aplicación subyacente (por ejemplo, ciencia económica, finanzas, medicina, ciencias naturales, tecnologías de la información) y es un \"concepto consistente en unificar estadística, análisis de datos, informática y sus métodos relacionados\" para \"comprender y analizar fenómenos reales\" con datos.', 'La ciencia de datos utiliza métodos, técnicas y teorías extraídas de muchos campos dentro del contexto de las matemáticas, las estadísticas, las ciencias de la computación, las ciencias de la información y el conocimiento del dominio.', 'La ciencia de datos es diferente de la informática, la estadística y la ciencia de la información, el ganador del premio Turing, Jim Gray, imaginó la ciencia de datos como un \"cuarto paradigma\" de la ciencia (empírico, teórico, computacional y ahora basado en datos) y afirmó que \"todo sobre la ciencia está cambiando debido al impacto de la tecnología de la información\" y la avalancha de datos.', 'Un científico de datos es el profesional que mediante la escritura y aplicación de código de programación y conocimientos en estadística trabaja en la recolección de datos, la limpieza de datos, la exploración de datos, la modelación de datos, visualización de datos, la implementación de soluciones de aprendizaje automático y en la interpretación de resultados.', 'El perfil de un científico de datos proviene de diferentes profesiones o backgrounds: matemáticos, ingenieros, economistas, actuarios, físicos, químicos, y en algunas ocasiones de campos que pudieran parecer muy distantes como la medicina o la sociología.', 'En 1962, John W Tukey mencionó el término “Ciencia de Datos” en su artículo “The Future of Data Analysis” al explicar una evolución de la estadística matemática, en este, definió por primera vez el análisis de datos como: “Procedimientos para analizar datos, técnicas para interpretar los resultados de dichos procedimientos, formas de planificar la recopilación de datos para hacer su análisis más fácil, más preciso o acertado, y toda la maquinaria y los resultados de las estadísticas matemáticas que se aplican al análisis de datos\".', 'En 1977, John W Tukey publicó “Exploratory Data Analysis”, argumentando que era necesario poner más énfasis en el uso de datos para sugerir hipótesis que probar en modelos estadísticos.', 'La ciencia de datos ha resultado para muchos una disciplina de reciente creación, pero en la realidad este concepto lo utilizó por primera vez el científico danés Peter Naur en la década de los sesenta como sustituto de las ciencias computacionales.', 'En 1974 Peter Naur publicó el libro Concise Survey of Computer Methods, donde utiliza ampliamente el concepto ciencia de datos, lo que permitió una utilización más libre en el mundo académico.', 'En 1977, el International Association for Statistical Computing (IASC) es establecido como una sección del International Statistical Institute (ISI), “Es la misión de la IASC relacionar la metodología estadística tradicional, tecnología computacional moderna, y el conocimiento de expertos del tema, para convertir datos en información y conocimiento\".', 'En 1996 el término ‘Ciencia de Datos’ fue utilizado por primera vez en una conferencia llamada \"Ciencia de datos, clasificación y métodos relacionados\", que tuvo lugar en una reunión de miembros de la ‘International Federation of Classification Societies’ (IFCS) con sede en Kobe, Japón.', 'En 1997, Jeff Wu describió al trabajo estadístico como una trilogía conformada por recolección de datos, análisis y modelado de datos, y la toma de decisiones, haciendo la petición de que la estadística fuese renombrada como ciencia de datos, y los estadísticos como científicos de datos.', 'En 2001, William S Cleveland introdujo a la ciencia de datos como una disciplina independiente, extendiendo el campo de la estadística para incluir los avances en computación con datos en su artículo \"Data science: an action plan for expanding the technical areas of the field of statistics\", Cleveland estableció seis áreas técnicas que en su opinión conformarían al campo de la ciencia de datos: investigaciones multidisciplinarias, modelos y métodos para datos, computación con datos, pedagogía, evaluación de herramientas, y teoría.', 'En abril del 2002, el ‘International Council for Science: Committee on Data for Science and Technology’ (CODATA) empezó la publicación del Data Science Journal, enfocada en problemas como la descripción de sistemas de datos, su publicación en Internet, sus aplicaciones, y sus problemas legales, poco después, en enero del 2003, la Universidad de Columbia empezó a publicar The Journal of Data Science, la cual ofreció una plataforma para que todos los profesionales de datos presentaran sus perspectivas e intercambiaran ideas.', 'En 2005, The National Science Board publicó \"Long-Lived Digital Data Collections Enabling Research and Education in the 21st Century\", definiendo a los científicos de datos como \"científicos de computación e información, programadores de bases de datos y software, y expertos disciplinarios, que son cruciales para la gestión exitosa de una colección digital de datos, cuya actividad primaria es realizar investigación creativa y análisis\", fue en el 2008 que Jeff Hammerbacher y DJ Patil lo reutilizaron para definir sus propios trabajos realizados en Facebook y LinkedIn, respectivamente.', 'En 2009, los investigadores Yangyong Zhu y Yun Xiong del ‘Research Center for Dataology and Data Science’, publicaron “Introduction to Dataology and Data Science”, en donde manifiestan que “a diferencia de las ciencias naturales y las ciencias sociales, Datología y Ciencia de Datos toman datos en la red y su objeto de estudio” \\n\\nEn 2013 fue lanzado el ‘IEEE Task Force on Data Science and Advanced Analytics’, mientras que la primera conferencia internacional de ‘IEEE International Conference on Data Science and Advanced Analytics’ fue lanzada en el 2014.', 'En 2015, el International Journal on Data Science and Analytics fue lanzado por Springer para publicar trabajos originales en ciencia de datos y analítica de big data.', 'Sobre el roadmap para convertirse en científico de datos, existen diferentes formas de adquirir el conocimiento necesario, las universidades están empezando a ofrecer cursos y diplomados y algunas, maestrías y doctorados en ciencia de datos.', 'IBM Network Skills ofrece un Certificado Profesional en Ciencia de Datos que tiene un costo (pero se puede pedir ayuda económica para cursarlo gratuitamente), el cual está compuesto por 9 cursos y tiene una duración de 10 meses, más información en https://www.coursera.org/professional-certificates/certificado-profesional-de-ciencia-de-datos-de-ibm.', 'La Universidad Peruana de Ciencias Aplicadas a través de su Escuela de Postgrado también ofrece Cursos de Ciencia de Datos, son cursos cortos en la modalidad online y virtual distribuidos en sus categorías Flex Courses, de 6 horas académicas, y Cursos Especializados, de 24 horas.', 'Sobre ejemplos de aplicaciones de Ciencia de Datos en el Marketing, en septiembre de 1994, BusinessWeek publicó el artículo “Marketing de base de datos”, manifestando que las empresas recopilan una gran cantidad de información sobre los clientes, la cual es analizada para predecir la probabilidad de que compre un producto, afirman que se utiliza ese conocimiento para elaborar un mensaje de marketing calibrado con precisión para que el individuo busque conseguirlo, asimismo, explican que, en los ochenta, un entusiasmo provocado por la propagación de los lectores de códigos de barras terminó en una decepción generalizada pues muchas empresas fueron abrumadas por la gran cantidad de datos para lograr hacer algo útil con la información de sus clientes, sin embargo, muchas empresas creen que no hay más remedio que desafiar la frontera marketing y bases de datos para desarrollar más las tecnologías necesarias.', 'Sobre ejemplos de aplicaciones de Ciencia de Datos en el Marketing, en 2014 la empresa sueca de música en streaming Spotify compra The Echo Nest, una compañía especializada en ciencia de datos musicales, ésta ahora es la encargada de almacenar y analizar la información de sus 170 millones de usuarios, con ayuda de dicha empresa, en 2015 Spotify lanzó un servicio de música personalizada llamado Discover Weekly que semanalmente recomienda a sus usuarios una selección de canciones que podría interesarles por medio de algoritmos y análisis de los datos de la música escuchada y el historial de búsqueda de la semana pasada, el servicio recibió una buena recepción generalizada y actualmente figura un fuerte punto de venta ante la competencia de la empresa.', 'Sobre ejemplos de aplicaciones de Ciencia de Datos en el Marketing, Netflix, la empresa norteamericana de contenido multimedia en streaming ofrece a sus más de 120 millones de usuarios una plataforma capaz de analizar, mediante algoritmos, las costumbres de consumo de los usuarios para diferenciar los contenidos que estos buscan y lograr determinar qué nuevos contenidos les pueden interesar, Todd Yellin, vicepresidente de producto en Netflix, explicó que algunos de los datos almacenados pueden extenderse desde la hora del día se conectan sus usuarios, cuánto tiempo pasan dentro de la plataforma, su lista de contenidos recientemente vistos (para analizar incluso el orden específico de estos), toda la información que se almacena es utilizada específicamente para ser analizada, aprender del usuario y poder darle recomendaciones acertadas.', 'Sobre ejemplos de aplicaciones de Ciencia de Datos en Gobernanza, en América Latina el Banco Interamericano de Desarrollo (BID) ha desarrollado estudios exploratorios en los que se analiza la ciencia de datos en la implementación y diseño de políticas públicas en la región, tomando casos en países como Argentina y Brasil, presentando recomendaciones para su implementación y mantenimiento, éstas van desde temas como movilidad urbana sostenible, ciudades inteligentes, seguridad, propiedad de datos y privacidad, entre las sugerencias presentadas en las investigaciones está la de lograr una “inteligencia del valor público, la cual “tiene la potencialidad de ser un componente estratégico para la toma de decisiones y el diseño, implementación y evaluación de políticas públicas”, otra de ellas es la capacidad para lograr desde este campo una mejora de rendición de cuentas de los gobiernos ante la ciudadanía y promover un avance en cuanto a la curaduría de datos en las instituciones públicas.', 'Textualmente, Big Data se refiere a enormes volúmenes de datos que no pueden procesarse de manera efectiva con las aplicaciones tradicionales que actualmente se aplican, de acuerdo con la guía de Amazon Web Service, se considera al Big Data como una colección considerable de datos con dificultades para almacenarse en bases de datos tradicionales, y también para procesarse en servidores estándar y para analizarse con aplicaciones habituales.', 'Big Data se suele relacionar con ciencia de datos, pues esa suele ser su fuente de información para análisis.', 'La ciencia de datos logra trabajar y analizar los grandes conjuntos de datos desordenados e incompletos, para llegar a hallazgos que impulsan decisiones sobre operaciones y productos.', 'Se define al científico de datos como una mezcla de estadísticos, computólogos y pensadores creativos, con las siguientes habilidades: \\n\\n- Recopilar, procesar y extraer valor de las diversas y extensas bases de datos\\n- Imaginación para comprender, visualizar y comunicar sus conclusiones a los no científicos de datos\\n- Capacidad para crear soluciones basadas en datos que aumentan los beneficios, reducen los costos.', 'El proceso que sigue un científico de datos para trabajar o resolver problemas con los datos se puede resumir en estos pasos: \\n\\n- Extraer datos, independientemente de la fuente y de su volumen\\n- Limpiar los datos, para eliminar lo que pueda sesgar los resultados\\n- Procesar los datos usando métodos estadísticos como inferencia estadística, modelos de regresión, pruebas de hipótesis, etc\\n- Diseñar experimentos adicionales en caso de ser necesario\\n- Crear visualizaciones gráficas de los datos relevantes de la investigación.', 'El científico de datos es un estadístico que debería saber o aprender interfaces de programación de aplicaciones (API), bases de datos y extracción de datos; es un diseñador que deberá aprender a programar; y es un computólogo que deberá saber analizar y encontrar datos con significado.', 'En la tesis doctoral de Benjamin Fry explicó que el proceso para comprender mejor a los datos comenzaba con una serie de números y el objetivo de responder preguntas sobre los datos, en cada fase del proceso que él propone (adquirir, analizar, filtrar, extraer, representar, refinar e interactuar), se requiere de diferentes enfoques especializados que aporten a una mejor comprensión de los datos, entre los enfoques que menciona Fry están: ingenieros en sistemas, matemáticos, estadísticos, diseñadores gráficos, especialistas en visualización de la información y especialistas en interacciones hombre-máquina, mejor conocidos por sus siglas en inglés “HCI” (Human-Computer Interaction), además, Fry afirmó que contar con diferentes enfoques especializados lejos de resolver el problema de entendimiento de datos, se convierte en parte del problema, ya que cada especialización conduce de manera aislada el problema y el camino hacia la solución se puede perder algo en cada transición del proceso.', 'Drew Conway en su página web explica con la ayuda de un diagrama de Venn, las principales habilidades que le dan vida y forma a la ciencia de datos, así como sus relaciones de conjuntos.', 'La ciencia de datos ha cobrado recientemente mucha importancia en nuestro acontecer como disciplina o profesión emergente (científico de datos), y se ha vuelto en foco de atención de cada vez más organizaciones a nivel mundial, tal como lo señaló el economista en jefe de Google Hal Varian, “El trabajo más sexy en los próximos 10 años será ser estadístico”, palabras sobre las que reflexionó Thomas H Davenport para publicar en el 2012 su artículo: Data Scientist: The Sexiest Job of the 21st Century donde describe el perfil que debe tener el científico de datos como el híbrido de un hacker de datos, un analista, un comunicador, y un consejero confiable, combinación extremadamente poderosa y poco común, Davenport, también señala que el científico de datos no se siente cómodo como se dice coloquialmente “con la correa corta”, es decir, debe tener la libertad de experimentar y explorar posibilidades.', 'El informe que publicó “McKinsey” en el 2011, estimó que para el mundo de grandes datos en el que vivimos, espera que la demanda por talento experto en ciencia de datos podría alcanzar de los 440 000 a 490 000 puestos de trabajo para el 2018.', 'Entre los retos tecnológicos en Ciencia de Datos a los que nos enfrentamos destacamos:\\n\\n- El volumen de datos: la genómica, la monitorización (UCI, dispositivos móviles), la ubicuidad, datos sociales, se requerirán, por una parte, nuevos métodos para el almacenamiento de datos; por otra parte, estos datos requieren nuevas aplicaciones para su integración, consulta y análisis\\n- Almacenamiento físico de los datos: los datos requieren de nuevos medios y arquitecturas para su almacenamiento y tratamiento de forma eficiente\\n- Problemas de interoperabilidad: diversos hospitales tienen diferentes sistemas de almacenamiento, tiene que haber una capa de interoperabilidad para construir sobre las soluciones de tecnologías de la información\\n- Limpieza de datos, integración, análisis, herramientas: cuando se tenga acceso a información de todo tipo: los registros de salud, información de contexto, la genómica, y el resto de datos, serán necesarias nuevas herramientas y servicios para diferenciar el ruido de los datos valiosos\\n- Interpretabilidad de los modelos obtenidos con técnicas de inteligencia artificial, impacto de los cambios en los protocolos de registro de datos y en la normativa sobre los datos registrados.', 'ElProfeAlejo es un consultor especializado en Ciencia de Datos con una amplia experiencia en diversos ámbitos, incluyendo Business Intelligence, Big Data, Data Science, Cloud Computing y Marketing Digital.', 'ElProfeAlejo nació en Lima, Perú, actualmente trabaja en São Paulo, Brasil.', 'Con más de 20 años de experiencia en varios países, ElProfeAlejo ha trabajado en proyectos internacionales relacionados con Business Intelligence, Big Data e Innovación Tecnológica, ha interactuado diariamente con consultores, gestores y directores de diversas áreas de Telefónica Brazil y Telefónica Global, lo que le ha permitido adquirir un amplio conocimiento y experiencia en el campo.', 'ElProfeAlejo posee un conocimiento sólido de diversos lenguajes, herramientas y softwares utilizados en Ciencia de Datos, como SAS, Teradata, SQL Server, R, Python, Spark, Hive, Machine Learning, Tableau, MicroStrategy, Power BI, PowerPivot, entre otros, su capacidad analítica es predominante y se destaca por su excelente colaboración en el trabajo en equipo.', 'Además, ElProfeAlejo cuenta con excelentes habilidades de comunicación en varios idiomas, conoce y sabe hablar inglés, español, portugués y francés, lo que le permite interactuar eficazmente en entornos multiculturales.', 'ElProfeAlejo trabajó como Analista de Business Intelligence en la empresa Movistar Perú, responsable por la selección de clientes objetivo para campañas de marketing, clasificación y entrega de bases de datos de clientes a terceros, y creación de presentaciones de resultados para los propietarios de productos, durante su tiempo en Movistar, participó en proyectos como Next Best Offer, Campaign Delivery Robot, Marketing Campaign Website y Datamart Customer 360°.', 'Posteriormente, ElProfeAlejo trabajó como Analista de Business Intelligence en la empresa Vivo Brasil, responsable de la selección de clientes objetivo para campañas de marketing, clasificación y entrega de bases de datos de clientes a terceros, y creación de paneles de control para las unidades de gestión, durante su tiempo en Vivo, participó en proyectos como Customer Availability Simulator y Best Campaign Offer Simulator.', 'Actualmente, ElProfeAlejo trabaja como Especialista Global Big Data en la empresa Telefónica España, forma parte del equipo de Global Processing Environment y trabaja en la extracción de datos de clientes, cálculo de KPI, análisis, modelado y preparación de informes y paneles de control según las necesidades del equipo Global de BI, además, está involucrado en proyectos como AURA La Inteligencia Artificial de Telefónica y URM Project Universal Reference Model.', 'ElProfeAlejo también ha trabajado como profesor de Data Science en la escuela Alura Latam, una plataforma en línea para estudiantes de toda América Latina, ha creado cursos relacionados con Data Science y Machine Learning, centrándose en técnicas y algoritmos de Machine Learning para resolver problemas del mundo real.', 'ElProfeAlejo ha estudiado y recibido una formación sólida a lo largo de su carrera, incluyendo una licenciatura en Ingeniería en Ciencias de la Computación de la Universidad Nacional Mayor de San Marcos en Perú y un MBA en Big Data de la FIAP en Brasil, además, ha participado en cursos y entrenamientos adicionales en áreas como Marketing BTL, Liderazgo y Gestión, y Data Science.', 'En resumen, ElProfeAlejo es un especialista altamente experimentado en Ciencia de Datos con una amplia experiencia en diversos ámbitos, posee un sólido conocimiento de herramientas y tecnologías relevantes, así como habilidades analíticas y de comunicación destacadas, su trayectoria laboral internacional en importantes empresas de telecomunicaciones demuestra su capacidad para abordar proyectos complejos y trabajar en entornos multinacionales.', 'Puedes encontrar a ElProfeAlejo en sus redes sociales favoritas como Youtube, Facebook y Linkedin, pregúntame por alguna de ellas que con gusto te las indico.', 'Youtube: Puedes encontrar a ElProfeAlejo en su canal de Youtube en el siguiente enlace: https://www.youtube.com/@ElProfeAlejo, en su canal, comparte contenido relacionado con Ciencia de Datos, Machine Learning y otros temas afines, puedes suscribirte a su canal para recibir actualizaciones sobre nuevos videos y contenido.', '¿Cuál es su Facebook?, ElProfeAlejo también tiene una página de Facebook donde comparte contenido relacionado con su trabajo y conocimientos en Ciencia de Datos, puedes visitar su página en el siguiente enlace: https://www.facebook.com/elprofealejos, si te gusta su página, puedes seguir sus publicaciones y mantenerte al tanto de las novedades.', 'Linkedin: Si deseas conectarte profesionalmente con ElProfeAlejo, puedes encontrarlo en LinkedIn a través de su perfil en el siguiente enlace: https://www.linkedin.com/in/ElProfeAlejo/, en su perfil, podrás obtener más información sobre su experiencia laboral, habilidades y logros en el campo de la Ciencia de Datos, además, puedes enviarle una solicitud de conexión para establecer contacto y seguir su actividad profesional.', 'Correo electrónico: Si deseas contactar directamente a ElProfeAlejo, puedes enviar un email a la siguiente dirección: elprofealejo.info@gmail.com, puedes utilizar este medio para realizar consultas, solicitar información adicional o establecer comunicación directa sobre posibles colaboraciones o proyectos.', 'Estos canales de contacto te permiten interactuar con ElProfeAlejo y aprovechar su experiencia y conocimientos en el campo de la Ciencia de Datos, a través de sus videos en Youtube, publicaciones en Facebook, conexiones en LinkedIn o por correo electrónico, podrás obtener información valiosa y establecer contacto directo con él.', 'ElProfeAlejo vende y ofrece una amplia gama de servicios y productos especializados en capacitaciones, entrenamientos y consultoría relacionada con Ciencia de Datos, Machine Learning e Inteligencia Artificial, para más información sobre los cursos, duración, valores y fechas de inicio de los grupos de estudio pregúntame sobre cualquiera de estos cursos: \\n\\n\\n\\n*Ciencia de Datos: \\n- Fundamentos de Ciencia de Datos\\n- Análisis Exploratorio de Datos\\n- Aprendizaje Automático en Ciencia de Datos\\n\\n\\n*Machine Learning: \\n- Fundamentos de Machine Learning\\n- Aprendizaje Supervisado y No Supervisado\\n- Redes Neuronales y Deep Learning\\n\\n\\n*Inteligencia Artificial: \\n- Introducción a la Inteligencia Artificial\\n- Aplicaciones Prácticas de la Inteligencia Artificial\\n- Ética y Responsabilidad en la Inteligencia Artificial.', 'Todos los cursos, entrenamientos y capacitaciones tienen un proyecto práctico y la finalización del curso está sujeto a nota aprobatoria.', 'Los alumnos aprobados en los cursos tienen un certificado digital y carta de recomendación laboral a nombre de la escuela ElProfeAlejo, líder en capacitaciones, reconocida en toda Latinoamérica.', 'Todos los cursos, entrenamientos y capacitaciones comienzan o inician en fechas diferentes y los valores de los cursos pueden estar sujetos a cambios, te recomiendo preguntar por un curso específico o contactar directamente a ElProfeAlejo a través de sus canales de contacto para obtener información actualizada y realizar cualquier consulta adicional.', 'Si deseas participar o inscribirte en algún curso de las áreas de Ciencia de Datos, Machine Learning o Inteligencia Artificial, puedes enviarnos un correo electrónico a la siguiente dirección: elprofealejo.info@gmail.com con el curso seleccionado y entraremos en contacto para indicarte los pasos a seguir.', 'Si deseas subscribir o registrarte en algún curso de las áreas de Ciencia de Datos, Machine Learning o Inteligencia Artificial, puedes enviarnos un correo electrónico a la siguiente dirección: elprofealejo.info@gmail.com con el curso seleccionado y entraremos en contacto para indicarte los pasos a seguir.', \"El curso 'Fundamentos de Ciencia de Datos' tiene un tiempo de duración de 8 semanas, por un precio o costo de $500 USD y con fecha de inicio en 1 de julio de 2023.\", \"El curso 'Análisis Exploratorio de Datos' tiene tiempo de duración de 6 semanas, por un precio o costo de $400 USD y con fecha de inicio en 15 de agosto de 2023.\", \"El curso 'Aprendizaje Automático en Ciencia de Datos' tiene tiempo de duración de 10 semanas, por un precio o costo de $700 USD y con fecha de inicio en 5 de septiembre de 2023.\", \"El curso 'Fundamentos de Machine Learning' tiene tiempo de duración de 8 semanas, por un precio o costo de $500 USD y con fecha de inicio en 1 de julio de 2023.\", \"El curso 'Aprendizaje Supervisado y No Supervisado' tiene tiempo de duración de 6 semanas, por un precio o costo de $400 USD y con fecha de inicio en 15 de agosto de 2023.\", \"El curso 'Redes Neuronales y Deep Learning' tiene tiempo de duración de 10 semanas, por un precio o costo de $700 USD y con fecha de inicio en 5 de septiembre de 2023.\", \"El curso 'Introducción a la Inteligencia Artificial' tiene tiempo de duración de 8 semanas, por un precio o costo de $500 USD y con fecha de inicio en 1 de julio de 2023.\", \"El curso 'Aplicaciones Prácticas de la Inteligencia Artificial' tiene tiempo de duración de 6 semanas, por un precio o costo de $400 USD y con fecha de inicio en 15 de agosto de 2023.\", \"El curso 'Ética y Responsabilidad en la Inteligencia Artificial' tiene tiempo de duración de 4 semanas, por un precio o costo de $300 USD y con fecha de inicio en 5 de septiembre de 2023.\"]\n",
            "[\"['datascience', 'ciencia', 'dato', 'ser', 'campo', 'academico', 'interdisciplinario', 'utilizar', 'estadistico', 'computacion', 'cientifico', 'metodo', 'proceso', 'algoritmo', 'sistema', 'obtener', 'recolectar', 'extraer', 'tratar', 'analizar', 'presentar', 'informe', 'partir', 'ruidoso', 'estructurado', 'no']\", \"['datascience', 'ciencia', 'dato', 'ser', 'multifacetico', 'poder', 'describir el', 'paradigma', 'investigacion', 'metodo', 'disciplina', 'flujo', 'trabajo', 'profesion']\", \"['datascience', 'ciencia', 'dato', 'integrar', 'conocimiento', 'dominio', 'aplicacion', 'subyacente', 'ejemplo', 'economico', 'finanza', 'medicina', 'natural', 'tecnologia', 'informacion', 'ser', 'concepto', 'consistente', 'unificar', 'estadistico', 'analisis', 'informatica', 'metodo', 'relacionado', 'comprender', 'analizar', 'fenomeno', 'real']\", \"['datascience', 'ciencia', 'dato', 'utilizar', 'metodo', 'tecnica', 'teoria', 'extraido', 'campo', 'dentro', 'contexto', 'matematica', 'estadistica', 'computacion', 'informacion', 'conocimiento', 'dominio']\", \"['datascience', 'ciencia', 'dato', 'ser', 'diferente', 'informatica', 'estadistica', 'informacion', 'ganador', 'premio', 'turing', 'jim', 'gray', 'imaginar', 'cuarto', 'paradigma', 'empirico', 'teorico', 'computacional', 'ahora', 'basado', 'afirmar', 'todo', 'estar', 'cambiar', 'debido', 'impacto', 'tecnologia', 'avalancha']\", \"['datascientist', 'cientifico', 'dato', 'ser', 'profesional', 'escritura', 'aplicacion', 'codigo', 'programacion', 'conocimiento', 'estadistico', 'trabajar', 'recoleccion', 'limpieza', 'exploracion', 'modelacion', 'visualizacion', 'implementacion', 'solucion', 'aprendizaje', 'automatico', 'interpretacion', 'resultado']\", \"['datascientist', 'perfil', 'cientifico', 'dato', 'provenir', 'profesion', 'backgrounds', 'matematico', 'ingeniero', 'economistas', 'actuario', 'fisico', 'quimico', 'ocasion', 'campo', 'poder', 'parecer', 'mucho', 'distante', 'medicina', 'sociologia']\", \"['datascience', '1962', 'john', 'w', 'tukey', 'mencionar', 'termino', 'ciencia', 'datos', 'articulo', 'the', 'future', 'of', 'data', 'analysis', 'explicar', 'evolucion', 'estadistica', 'matematico', 'este', 'definir', 'primero', 'vez', 'analisis', 'dato', 'procedimientos', 'analizar', 'tecnica', 'interpretar', 'resultado', 'dicho', 'procedimiento', 'forma', 'planificar', 'recopilacion', 'hacer', 'mas', 'facil', 'preciso', 'acertado', 'maquinaria', 'el', 'aplicar']\", \"['1977', 'john', 'w', 'tukey', 'publicar', 'exploratory', 'data', 'analysis', 'argumentar', 'ser', 'necesario', 'poner', 'mas', 'enfasis', 'uso', 'dato', 'sugerir', 'hipotesis', 'probar', 'modelo', 'estadistico']\", \"['datascience', 'ciencia', 'dato', 'haber', 'resultar', 'mucho', 'disciplina', 'reciente', 'creacion', 'realidad', 'concepto', 'el', 'utilizar', 'primero', 'vez', 'cientifico', 'danes', 'peter', 'naur', 'decada', 'sesenta', 'sustituto', 'computacional']\", \"['datascience', '1974', 'peter', 'naur', 'publicar', 'libro', 'concise', 'survey', 'of', 'computer', 'methods', 'donde', 'utilizar', 'ampliamente', 'concepto', 'ciencia', 'dato', 'el', 'permitir', 'utilizacion', 'mas', 'libre', 'mundo', 'academico']\", \"['1977', 'international', 'association', 'for', 'statistical', 'computing', 'iasc', 'ser', 'establecer', 'seccion', 'institute', 'isi', 'mision', 'relacionar', 'metodologia', 'estadistico', 'tradicional', 'tecnologia', 'computacional', 'moderno', 'conocimiento', 'experto', 'tema', 'convertir', 'dato', 'informacion']\", \"['datascience', '1996', 'termino', 'ciencia', 'datos', 'ser', 'utilizar', 'primero', 'vez', 'conferencia', 'llamado', 'dato', 'clasificacion', 'metodo', 'relacionado', 'tener', 'lugar', 'reunion', 'miembro', 'international', 'federation', 'of', 'classification', 'societies', 'ifcs', 'sede', 'kobe', 'japon']\", \"['datascience', '1997', 'jeff', 'wu', 'describir', 'trabajo', 'estadistico', 'trilogia', 'conformado', 'recoleccion', 'dato', 'analisis', 'modelado', 'toma', 'decision', 'hacer', 'peticion', 'estadistica', 'ser', 'renombrar', 'ciencia', 'cientifico']\", \"['datascience', '2001', 'william', 's', 'cleveland', 'introducir', 'ciencia', 'dato', 'disciplina', 'independiente', 'extender', 'campo', 'estadistica', 'incluir', 'avance', 'computacion', 'articulo', 'data', 'science', 'an', 'action', 'plan', 'for', 'expanding', 'the', 'technical', 'area', 'of', 'field', 'statistics', 'establecer', 'seis', 'tecnico', 'opinion', 'conformar', 'investigacion', 'multidisciplinaria', 'modelo', 'metodo', 'pedagogia', 'evaluacion', 'herramienta', 'teoria']\", \"['datascience', 'abril', '2002', 'international', 'council', 'for', 'science', 'committee', 'on', 'data', 'and', 'technology', 'codata', 'empezar', 'publicacion', 'journal', 'enfocado', 'problema', 'descripcion', 'sistema', 'dato', 'internet', 'aplicacion', 'legal', 'poco', 'despues', 'enero', '2003', 'universidad', 'columbia', 'publicar', 'the', 'of', 'ofrecer', 'plataforma', 'profesional', 'presentar', 'perspectiva', 'intercambiar', 'idea']\", \"['2005', 'the', 'national', 'science', 'board', 'publicar', 'long-lived', 'digital', 'data', 'collections', 'enabling', 'research', 'and', 'education', 'century', 'definir', 'cientifico', 'dato', 'computacion', 'informacion', 'programador', 'base', 'software', 'experto', 'disciplinario', 'ser', 'crucial', 'gestion', 'exitoso', 'coleccion', 'cuyo', 'actividad', 'primario', 'realizar', 'investigacion', 'creativo', 'analisis', '2008', 'jeff', 'hammerbacher', 'dj', 'patil', 'el', 'utilizar', 'trabajo', 'realizado', 'facebook', 'linkedin', 'respectivamente']\", \"['datascience', '2009', 'investigador', 'yangyong', 'zhu', 'yun', 'xiong', 'research', 'center', 'for', 'dataology', 'and', 'data', 'science', 'publicar', 'introduction', 'to', 'donde', 'manifestar', 'diferencia', 'ciencia', 'natural', 'social', 'datologia', 'datos', 'tomar', 'dato', 'red', 'objeto', 'estudio', '2013', 'ser', 'lanzar', 'ieee', 'task', 'force', 'on', 'advanced', 'analytics', 'primero', 'conferencia', 'internacional', 'international', 'conference', '2014']\", \"['datascience', '2015', 'international', 'journal', 'on', 'data', 'science', 'and', 'analytics', 'ser', 'lanzar', 'springer', 'publicar', 'trabajo', 'original', 'ciencia', 'dato', 'analitico', 'big', 'datar']\", \"['datascientist', 'datascience', 'roadmap', 'convertir el', 'cientifico', 'dato', 'existir', 'forma', 'adquirir', 'conocimiento', 'necesario', 'universidad', 'estar', 'empezar', 'ofrecer', 'curso', 'diplomado', 'alguno', 'maestria', 'doctorado', 'ciencia']\", \"['datascience', 'ibm', 'network', 'skills', 'ofrecer', 'certificado', 'profesional', 'ciencia', 'datos', 'tener', 'costar', 'el', 'poder', 'pedir', 'ayuda', 'economico', 'cursar el', 'gratuitamente', 'estar', 'compuesto', '9', 'curso', 'duracion', '10', 'mes', 'mas', 'informacion', 'https//wwwcourseraorg/professional-certificates/certificado-profesional-de-ciencia-de-datos-de-ibm']\", \"['datascience', 'universidad', 'peruana', 'ciencias', 'aplicado', 'traves', 'escuela', 'postgrado', 'tambien', 'ofrecer', 'cursos', 'ciencia', 'datos', 'ser', 'curso', 'corto', 'modalidad', 'online', 'virtual', 'distribuido', 'categoria', 'flex', 'courses', '6', 'hora', 'academico', 'especializados', '24']\", \"['datascience', 'ejemplo', 'aplicacion', 'ciencia', 'datos', 'marketing', 'septiembre', '1994', 'businessweek', 'publicar', 'articulo', 'base', 'dato', 'manifestar', 'empresa', 'recopilar', 'gran', 'cantidad', 'informacion', 'cliente', 'ser', 'analizar', 'predecir', 'probabilidad', 'comprar', 'producto', 'afirmar', 'el', 'utilizar', 'conocimiento', 'elaborar', 'mensaje', 'calibrado', 'precision', 'individuo', 'buscar', 'conseguir el', 'asimismo', 'explicar', 'ochenta', 'entusiasmo', 'provocado', 'propagacion', 'lector', 'codigo', 'barra', 'terminar', 'decepcion', 'generalizado', 'pues', 'abrumar', 'lograr', 'hacer', 'algo', 'util', 'embargo', 'creer', 'no', 'haber', 'mas', 'remedio', 'desafinar', 'frontera', 'desarrollar', 'tecnologia', 'necesario']\", \"['datascience', 'ejemplo', 'aplicacion', 'ciencia', 'datos', 'marketing', '2014', 'empresa', 'sueco', 'musica', 'streaming', 'spotify', 'comprar', 'the', 'echo', 'nest', 'compañia', 'especializado', 'dato', 'musical', 'este', 'ahora', 'ser', 'encargada', 'almacenar', 'analizar', 'informacion', 'su', '170', 'millon', 'usuario', 'ayuda', 'dicho', '2015', 'lanzar', 'servicio', 'personalizado', 'llamado', 'discover', 'weekly', 'semanalmente', 'recomendar', 'seleccion', 'cancion', 'poder', 'interesar el', 'medio', 'algoritmo', 'analisis', 'escuchado', 'historial', 'busqueda', 'semana', 'pasado', 'recibir', 'buen', 'recepcion', 'generalizado', 'actualmente', 'figurar', 'fuerte', 'punto', 'venta', 'competencia']\", \"['datascience', 'ejemplo', 'aplicacion', 'ciencia', 'datos', 'marketing', 'netflix', 'empresa', 'norteamericano', 'contenido', 'multimedia', 'streaming', 'ofrecer', 'mas', '120', 'millon', 'usuario', 'plataforma', 'capaz', 'analizar', 'algoritmo', 'costumbre', 'consumo', 'diferenciar', 'este', 'buscar', 'lograr', 'determinar', 'nuevo', 'el', 'poder', 'interesar', 'todd', 'yellin', 'vicepresidente', 'producto', 'explicar', 'alguno', 'dato', 'almacenado', 'extender el', 'hora', 'dia', 'conectar', 'tiempo', 'pasar', 'dentro', 'lista', 'recientemente', 'visto', 'incluso', 'orden', 'especifico', 'informacion', 'almacenar', 'ser', 'utilizar', 'especificamente', 'aprender', 'dar el', 'recomendacion', 'acertado']\", \"['datascience', 'ejemplo', 'aplicacion', 'ciencia', 'datos', 'gobernanza', 'america', 'latina', 'banco', 'interamericano', 'desarrollo', 'bid', 'haber', 'desarrollar', 'estudio', 'exploratorio', 'el', 'analizar', 'dato', 'implementacion', 'diseño', 'politica', 'publico', 'region', 'tomar', 'caso', 'pais', 'argentina', 'brasil', 'presentar', 'recomendacion', 'mantenimiento', 'este', 'ir', 'tema', 'movilidad', 'urbano', 'sostenible', 'ciudad', 'inteligente', 'seguridad', 'propiedad', 'privacidad', 'sugerencia', 'presentado', 'investigacion', 'estar', 'lograr', 'inteligencia', 'valor', 'tener', 'potencialidad', 'ser', 'componente', 'estrategico', 'toma', 'decision', 'evaluacion', 'otro', 'capacidad', 'campo', 'mejora', 'rendicion', 'contar', 'gobierno', 'ciudadania', 'promover', 'avance', 'curaduria', 'institucion']\", \"['textualmente', 'big', 'data', 'el', 'referir', 'enorme', 'volumen', 'dato', 'no', 'poder', 'procesar el', 'manera', 'efectivo', 'aplicacion', 'tradicional', 'actualmente', 'aplicar', 'acuerdo', 'guia', 'amazon', 'web', 'service', 'considerar', 'coleccion', 'considerable', 'dificultad', 'almacenar el', 'base', 'tambien', 'servidor', 'estandar', 'analizar el', 'habitual']\", \"['datascience', 'big', 'data', 'el', 'soler', 'relacionar', 'ciencia', 'dato', 'pues', 'ese', 'ser', 'fuente', 'informacion', 'analisis']\", \"['datascience', 'ciencia', 'dato', 'lograr', 'trabajar', 'analizar', 'grande', 'conjunto', 'desordenado', 'incompleto', 'llegar', 'hallazgo', 'impulsar', 'decision', 'operacion', 'producto']\", \"['datascientist', 'el', 'definir', 'cientifico', 'dato', 'mezcla', 'estadistico', 'computologo', 'pensador', 'creativo', 'siguiente', 'habilidad', 'recopilar', 'procesar', 'extraer', 'valor', 'diverso', 'extenso', 'base', 'imaginacion', 'comprender', 'visualizar', 'comunicar', 'conclusion', 'no', 'capacidad', 'crear', 'solucion', 'basado', 'aumentar', 'beneficio', 'reducir', 'costo']\", \"['datascientist', 'proceso', 'seguir', 'cientifico', 'dato', 'trabajar', 'resolver', 'problema', 'el', 'poder', 'resumir', 'paso', 'extraer', 'independientemente', 'fuente', 'volumen', 'limpiar', 'eliminar', 'sesgar', 'resultado', 'procesar', 'usar', 'metodo', 'estadistico', 'inferencia', 'modelo', 'regresion', 'prueba', 'hipotesis', 'diseñar', 'experimento', 'adicional', 'caso', 'ser', 'necesario', 'crear', 'visualizacion', 'grafico', 'relevante', 'investigacion']\", \"['datascientist', 'cientifico', 'dato', 'ser', 'estadistico', 'deber', 'saber', 'aprender', 'interfaz', 'programacion', 'aplicacion', 'api', 'base', 'extraccion', 'diseñador', 'programar', 'computologo', 'analizar', 'encontrar', 'significado']\", \"['tesis', 'doctoral', 'benjamin', 'fry', 'explicar', 'proceso', 'comprender', 'mejor', 'dato', 'comenzar', 'serie', 'numero', 'objetivo', 'responder', 'pregunta', 'fase', 'el', 'proponer', 'adquirir', 'analizar', 'filtrar', 'extraer', 'representar', 'refinar', 'interactuar', 'requerir', 'enfoque', 'especializado', 'aportir', 'comprension', 'mencionar', 'estar', 'ingeniero', 'sistema', 'matematico', 'estadistico', 'diseñador', 'grafico', 'especialista', 'visualizacion', 'informacion', 'interaccion', 'hombre-maquin', 'conocido', 'sigla', 'ingles', 'hci', 'human-computer', 'interaction', 'ademas', 'afirmar', 'contar', 'lejos', 'resolver', 'problema', 'entendimiento', 'convertir', 'parte', 'ya', 'especializacion', 'conducir', 'manera', 'aislado', 'camino', 'solucion', 'poder', 'perder', 'algo', 'transicion']\", \"['datascience', 'drew', 'conway', 'pagina', 'web', 'explicar', 'ayuda', 'diagrama', 'venn', 'principal', 'habilidad', 'el', 'dar', 'vida', 'forma', 'ciencia', 'dato', 'asi', 'relacion', 'conjunto']\", \"['datascientist', 'datascience', 'ciencia', 'dato', 'haber', 'cobrar', 'recientemente', 'importancia', 'acontecer', 'disciplina', 'profesion', 'emergente', 'cientifico', 'el', 'volver', 'foco', 'atencion', 'vez', 'mas', 'organizacion', 'nivel', 'mundial', 'tal', 'señalar', 'economista', 'jefe', 'google', 'hal', 'varian', 'trabajo', 'sexy', 'proximo', '10', 'año', 'ser', 'estadistico', 'palabra', 'reflexionar', 'thomas', 'h', 'davenport', 'publicar', '2012', 'articulo', 'data', 'scientist', 'the', 'sexiest', 'job', 'of', 'century', 'donde', 'describir', 'perfil', 'deber', 'tener', 'hibrido', 'hacker', 'analista', 'comunicador', 'consejero', 'confiable', 'combinacion', 'extremadamente', 'poderoso', 'poco', 'comun', 'tambien', 'no', 'sentir', 'comodo', 'decir', 'coloquialmente', 'correa', 'corto', 'libertad', 'experimentar', 'explorar', 'posibilidad']\", \"['datascience', 'informe', 'publicar', 'mckinsey', '2011', 'estimar', 'mundo', 'grande', 'dato', 'vivir', 'esperar', 'demanda', 'talento', 'experto', 'ciencia', 'poder', 'alcanzar', '440', '000', '490', 'puesto', 'trabajo', '2018']\", \"['datascience', 'reto', 'tecnologico', 'ciencia', 'datos', 'yo', 'enfrentar', 'destacar', 'volumen', 'dato', 'genomica', 'monitorizacion', 'uci', 'dispositivo', 'movil', 'ubicuidad', 'social', 'el', 'requerir', 'parte', 'nuevo', 'metodo', 'almacenamiento', 'aplicacion', 'integracion', 'consulta', 'analisis', 'fisico', 'medio', 'arquitectura', 'tratamiento', 'forma', 'eficiente', 'problema', 'interoperabilidad', 'hospital', 'tener', 'sistema', 'haber', 'capa', 'construir', 'solucion', 'tecnologia', 'informacion', 'limpieza', 'herramienta', 'acceso', 'tipo', 'registro', 'salud', 'contexto', 'resto', 'ser', 'necesario', 'servicio', 'diferenciar', 'ruido', 'valioso', 'interpretabilidad', 'modelo', 'obtenido', 'tecnica', 'inteligencia', 'artificial', 'impacto', 'cambio', 'protocolo', 'normativa', 'registrado']\", \"['elprofealejo', 'datascience', 'ser', 'consultor', 'especializado', 'ciencia', 'datos', 'amplio', 'experiencia', 'ambito', 'incluir', 'business', 'intelligence', 'big', 'data', 'science', 'cloud', 'computing', 'marketing', 'digital']\", \"['elprofealejo', 'nacer', 'lima', 'peru', 'actualmente', 'trabajar', 'são', 'paulo', 'brasil']\", \"['elprofealejo', 'mas', '20', 'año', 'experiencia', 'pais', 'haber', 'trabajar', 'proyecto', 'internacional', 'relacionado', 'business', 'intelligence', 'big', 'data', 'innovacion', 'tecnologica', 'interactuar', 'diariamente', 'consultor', 'gestor', 'director', 'area', 'telefonica', 'brazil', 'global', 'el', 'permitir', 'adquirir', 'amplio', 'conocimiento', 'campo']\", \"['elprofealejo', 'datascience', 'poseer', 'conocimiento', 'solido', 'lenguaje', 'herramienta', 'softwares', 'utilizado', 'ciencia', 'datos', 'sas', 'teradata', 'sql', 'server', 'r', 'python', 'spark', 'hive', 'machine', 'learning', 'tableau', 'microstrategy', 'power', 'bi', 'powerpivot', 'otro', 'capacidad', 'analitico', 'ser', 'predominante', 'el', 'destacar', 'excelente', 'colaboracion', 'trabajo', 'equipo']\", \"['elprofealejo', 'ademas', 'contar', 'excelente', 'habilidad', 'comunicacion', 'idioma', 'conocer', 'saber', 'hablar', 'ingles', 'español', 'portugues', 'frances', 'el', 'permitir', 'interactuar', 'eficazmente', 'entorno', 'multicultural']\", \"['elprofealejo', 'trabajar', 'analista', 'business', 'intelligence', 'empresa', 'movistar', 'peru', 'responsable', 'seleccion', 'cliente', 'objetivo', 'campaña', 'marketing', 'clasificacion', 'entrega', 'base', 'dato', 'tercero', 'creacion', 'presentacion', 'resultado', 'propietario', 'producto', 'tiempo', 'participar', 'proyecto', 'next', 'best', 'offer', 'campaign', 'delivery', 'robot', 'website', 'datamart', 'customer', '360']\", \"['elprofealejo', 'posteriormente', 'trabajar', 'analista', 'business', 'intelligence', 'empresa', 'vivo', 'brasil', 'responsable', 'seleccion', 'cliente', 'objetivo', 'campaña', 'marketing', 'clasificacion', 'entrega', 'base', 'dato', 'tercero', 'creacion', 'panel', 'control', 'unidad', 'gestion', 'tiempo', 'participar', 'proyecto', 'customer', 'availability', 'simulator', 'best', 'campaign', 'offer']\", \"['elprofealejo', 'actualmente', 'trabajar', 'especialista', 'global', 'big', 'data', 'empresa', 'telefonica', 'españa', 'formar', 'parte', 'equipo', 'processing', 'environment', 'extraccion', 'dato', 'cliente', 'calculo', 'kpi', 'analisis', 'modelado', 'preparacion', 'informe', 'panel', 'control', 'necesidad', 'bi', 'ademas', 'estar', 'involucrado', 'proyecto', 'aura', 'inteligencia', 'artificial', 'urm', 'project', 'universal', 'reference', 'model']\", \"['elprofealejo', 'datascience', 'tambien', 'haber', 'trabajar', 'profesor', 'data', 'science', 'escuela', 'alura', 'latam', 'plataforma', 'linea', 'estudiante', 'america', 'latina', 'crear', 'curso', 'relacionado', 'machine', 'learning', 'centrar el', 'tecnica', 'algoritmo', 'resolver', 'problema', 'mundo', 'real']\", \"['elprofealejo', 'datascience', 'haber', 'estudiar', 'recibir', 'formacion', 'solido', 'el', 'largo', 'carrera', 'incluir', 'licenciatura', 'ingenieria', 'ciencias', 'computacion', 'universidad', 'nacional', 'mayor', 'san', 'marcos', 'peru', 'mba', 'big', 'data', 'fiap', 'brasil', 'ademas', 'participar', 'curso', 'entrenamiento', 'adicional', 'area', 'marketing', 'btl', 'liderazgo', 'gestion', 'science']\", \"['elprofealejo', 'datascience', 'resumen', 'ser', 'especialista', 'altamente', 'experimentado', 'ciencia', 'datos', 'amplio', 'experiencia', 'ambito', 'poseer', 'solido', 'conocimiento', 'herramienta', 'tecnologia', 'relevante', 'asi', 'habilidad', 'analitica', 'comunicacion', 'destacado', 'trayectoria', 'laboral', 'internacional', 'importante', 'empresa', 'telecomunicacion', 'demostrar', 'capacidad', 'abordar', 'proyecto', 'complejo', 'trabajar', 'entorno', 'multinacional']\", \"['elprofealejo', 'poder', 'encontrar', 'red', 'social', 'favorito', 'youtube', 'facebook', 'linkedin', 'preguntar', 'alguno', 'el', 'gusto', 'tu', 'indico']\", \"['elprofealejo', 'datascience', 'youtube', 'poder', 'encontrar', 'canal', 'siguiente', 'enlace', 'https//wwwyoutubecom/elprofealejo', 'compartir', 'contenido', 'relacionado', 'ciencia', 'datos', 'machine', 'learning', 'tema', 'afin', 'suscribir', 'recibir', 'actualizacion', 'nuevo', 'video']\", \"['elprofealejo', 'datascience', 'ser', 'facebook', 'tambien', 'tener', 'pagina', 'donde', 'compartir', 'contenido', 'relacionado', 'trabajo', 'conocimiento', 'ciencia', 'datos', 'poder', 'visitar', 'siguiente', 'enlace', 'https//wwwfacebookcom/elprofealejo', 'si', 'tu', 'gustar', 'seguir', 'publicacion', 'mantener', 'tanto', 'novedad']\", \"['elprofealejo', 'datascience', 'linkedin', 'si', 'desear', 'conectar', 'profesionalmente', 'poder', 'encontrar el', 'traves', 'perfil', 'siguiente', 'enlace', 'https//wwwlinkedincom/in/elprofealejo/', 'podrar', 'obtener', 'mas', 'informacion', 'experiencia', 'laboral', 'habilidad', 'logro', 'campo', 'ciencia', 'datos', 'ademas', 'enviar el', 'solicitud', 'conexion', 'establecer', 'contacto', 'seguir', 'actividad', 'profesional']\", \"['elprofealejo', 'correo', 'electronico', 'si', 'desear', 'contactar', 'directamente', 'poder', 'enviar', 'email', 'siguiente', 'direccion', 'utilizar', 'medio', 'realizar', 'consulta', 'solicitar', 'informacion', 'adicional', 'establecer', 'comunicacion', 'directo', 'posible', 'colaboracion', 'proyecto']\", \"['elprofealejo', 'datascience', 'canal', 'contacto', 'tu', 'permitir', 'interactuar', 'aprovechar', 'experiencia', 'conocimiento', 'campo', 'ciencia', 'datos', 'traves', 'video', 'youtube', 'publicacion', 'facebook', 'conexion', 'linkedin', 'correo', 'electronico', 'podrar', 'obtener', 'informacion', 'valioso', 'establecer', 'directo', 'el']\", \"['elprofealejo', 'datascience', 'vender', 'ofrecer', 'amplio', 'gama', 'servicio', 'producto', 'especializado', 'capacitacion', 'entrenamiento', 'consultoria', 'relacionado', 'ciencia', 'datos', 'machine', 'learning', 'inteligencia', 'artificial', 'mas', 'informacion', 'curso', 'duracion', 'valor', 'fecha', 'inicio', 'grupo', 'estudio', 'preguntar', 'cualquiera', 'fundamentos', 'analisis', 'exploratorio', 'aprendizaje', 'automatico', '*', 'supervisado', 'no', 'redes', 'neuronales', 'deep', 'introduccion', 'aplicaciones', 'practicas', 'etico', 'responsabilidad']\", \"['curso', 'entrenamiento', 'capacitacion', 'tener', 'proyecto', 'practico', 'finalizacion', 'estar', 'sujeto', 'nota', 'aprobatorio']\", \"['elprofealejo', 'alumno', 'aprobado', 'curso', 'tener', 'certificado', 'digital', 'carta', 'recomendacion', 'laboral', 'nombre', 'escuela', 'lider', 'capacitacion', 'reconocido', 'latinoamerica']\", \"['elprofealejo', 'curso', 'entrenamiento', 'capacitacion', 'comenzar', 'iniciar', 'fecha', 'diferente', 'valor', 'poder', 'estar', 'sujeto', 'cambio', 'tu', 'recomendar', 'preguntar', 'especifico', 'contactar', 'directamente', 'traves', 'canal', 'contacto', 'obtener', 'informacion', 'actualizado', 'realizar', 'consulta', 'adicional']\", \"['elprofealejo', 'datascience', 'si', 'desear', 'participar', 'inscribir', 'curso', 'area', 'ciencia', 'datos', 'machine', 'learning', 'inteligencia', 'artificial', 'poder', 'enviar yo', 'correo', 'electronico', 'siguiente', 'direccion', 'elprofealejoinfogmailcom', 'seleccionado', 'entrarer', 'contacto', 'indicar', 'paso', 'seguir']\", \"['elprofealejo', 'datascience', 'si', 'desear', 'subscribir', 'registrar', 'curso', 'area', 'ciencia', 'datos', 'machine', 'learning', 'inteligencia', 'artificial', 'poder', 'enviar yo', 'correo', 'electronico', 'siguiente', 'direccion', 'elprofealejoinfogmailcom', 'seleccionado', 'entrarer', 'contacto', 'indicar', 'paso', 'seguir']\", \"['datascience', 'curso', 'fundamentos', 'ciencia', 'datos', 'tener', 'tiempo', 'duracion', '8', 'semana', 'precio', 'costar', '500', 'usd', 'fecha', 'inicio', '1', 'julio', '2023']\", \"['curso', 'analisis', 'exploratorio', 'datos', 'tener', 'tiempo', 'duracion', '6', 'semana', 'precio', 'costar', '400', 'usd', 'fecha', 'inicio', '15', 'agosto', '2023']\", \"['datascience', 'curso', 'aprendizaje', 'automatico', 'ciencia', 'datos', 'tener', 'tiempo', 'duracion', '10', 'semana', 'precio', 'costar', '700', 'usd', 'fecha', 'inicio', '5', 'septiembre', '2023']\", \"['curso', 'fundamentos', 'machine', 'learning', 'tener', 'tiempo', 'duracion', '8', 'semana', 'precio', 'costar', '500', 'usd', 'fecha', 'inicio', '1', 'julio', '2023']\", \"['curso', 'aprendizaje', 'supervisado', 'no', 'tener', 'tiempo', 'duracion', '6', 'semana', 'precio', 'costar', '400', 'usd', 'fecha', 'inicio', '15', 'agosto', '2023']\", \"['curso', 'redes', 'neuronales', 'deep', 'learning', 'tener', 'tiempo', 'duracion', '10', 'semana', 'precio', 'costar', '700', 'usd', 'fecha', 'inicio', '5', 'septiembre', '2023']\", \"['curso', 'introduccion', 'inteligencia', 'artificial', 'tener', 'tiempo', 'duracion', '8', 'semana', 'precio', 'costar', '500', 'usd', 'fecha', 'inicio', '1', 'julio', '2023']\", \"['curso', 'aplicaciones', 'practicas', 'inteligencia', 'artificial', 'tener', 'tiempo', 'duracion', '6', 'semana', 'precio', 'costar', '400', 'usd', 'fecha', 'inicio', '15', 'agosto', '2023']\", \"['curso', 'etica', 'responsabilidad', 'inteligencia', 'artificial', 'tener', 'tiempo', 'duracion', '4', 'semana', 'precio', 'costar', '300', 'usd', 'fecha', 'inicio', '5', 'septiembre', '2023']\"]\n"
          ]
        }
      ]
    },
    {
      "cell_type": "code",
      "source": [
        "# df_dialogo.head(5)"
      ],
      "metadata": {
        "id": "1J4trlLA75JH"
      },
      "execution_count": 8,
      "outputs": []
    },
    {
      "cell_type": "markdown",
      "source": [
        "###Guardar DF en drive:"
      ],
      "metadata": {
        "id": "CIRV2DyvtZPo"
      }
    },
    {
      "cell_type": "code",
      "source": [
        "import pandas as pd\n",
        "import os\n",
        "\n",
        "def guardar_dataframe(dataframe):\n",
        "  carpeta = \"/content/drive/MyDrive/Chatbot\"\n",
        "  nombre_archivo = \"df_dialogo_spring_02.csv\"\n",
        "\n",
        "  if not os.path.exists(carpeta):\n",
        "    os.makedirs(carpeta)\n",
        "  archivo_csv = os.path.join(carpeta, nombre_archivo)\n",
        "  dataframe.to_csv(archivo_csv, index=False)"
      ],
      "metadata": {
        "id": "w5YqjPJ2jWJD"
      },
      "execution_count": 9,
      "outputs": []
    },
    {
      "cell_type": "markdown",
      "source": [
        "# 5. Buscar respuesta del Chatbot"
      ],
      "metadata": {
        "id": "IVJ6UmQV3n4T"
      }
    },
    {
      "cell_type": "code",
      "source": [
        "from sklearn.feature_extraction.text import TfidfVectorizer\n",
        "from sklearn.metrics.pairwise import cosine_similarity\n",
        "import jellyfish\n",
        "\n",
        "def dialogo(user_response):\n",
        "    # Tratamiento de texto\n",
        "    user_response = tratamiento_texto(user_response)  # Tratando el texto\n",
        "    user_response = re.sub(r\"[^\\w\\s]\", '', user_response)  # Elimina signos de puntuación\n",
        "\n",
        "    df = df_dialogo.copy()\n",
        "\n",
        "    vectorizer = TfidfVectorizer()\n",
        "\n",
        "    for idx, row in df.iterrows():\n",
        "\n",
        "        dialogos_numero = vectorizer.fit_transform(df_dialogo['dialogo'])\n",
        "        respuesta_numero = vectorizer.transform([user_response])\n",
        "        cos_sim = cosine_similarity(dialogos_numero[idx], respuesta_numero)[0][0]\n",
        "\n",
        "        df.at[idx, 'interseccion'] = len(set(user_response.split()) & set(row['dialogo'].split()))/len(user_response.split())\n",
        "        df.at[idx, 'similarity'] = cos_sim\n",
        "        df.at[idx, 'jaro_winkler'] = jellyfish.jaro_winkler_similarity(user_response, row['dialogo'])\n",
        "\n",
        "        # Calcular la probabilidad:\n",
        "        df.at[idx, 'probabilidad'] = max(df.at[idx, 'interseccion'], df.at[idx, 'similarity'], df.at[idx, 'jaro_winkler'])\n",
        "\n",
        "    df.sort_values(by=['probabilidad', 'jaro_winkler'], inplace=True, ascending=False)\n",
        "\n",
        "    # Probabilidad máxima:\n",
        "    probabilidad = round(df['probabilidad'].head(1).values[0],2)\n",
        "\n",
        "    #Guardar df:\n",
        "    guardar_dataframe(df)\n",
        "\n",
        "    if probabilidad >= 0.93:\n",
        "        print('Respuesta encontrada por el método de comparación de textos - Probabilidad: ', probabilidad)\n",
        "        respuesta = df['respuesta'].head(1).values[0]\n",
        "    else:\n",
        "        respuesta = ''\n",
        "    return respuesta\n",
        "\n",
        "#Cargar tu modelo entrenado aqui(recuerda siempre cargar el modelo y el vectorizer o tokenizer usado en el entrenamiento del modelo):\n",
        "ruta_modelo = '/content/drive/MyDrive/Chatbot/modelo_transformers'\n",
        "Modelo_TF = BertForSequenceClassification.from_pretrained(ruta_modelo)\n",
        "tokenizer_TF = BertTokenizer.from_pretrained(ruta_modelo)\n",
        "\n",
        "#Función para dialogar utilizando el modelo de Machine Learning:\n",
        "def clasificacion_modelo(pregunta):\n",
        "  frase = normalizar(pregunta)\n",
        "  frase = ' '.join(str(elemento) for elemento in frase)\n",
        "  tokens = tokenizer_TF.encode_plus(\n",
        "      frase,\n",
        "      add_special_tokens=True,\n",
        "      max_length=128,\n",
        "      padding='max_length',\n",
        "      truncation=True,\n",
        "      return_tensors='pt'\n",
        "  )\n",
        "  input_ids = tokens['input_ids']\n",
        "  attention_mask = tokens['attention_mask']\n",
        "\n",
        "  with torch.no_grad():\n",
        "      outputs = Modelo_TF(input_ids, attention_mask)\n",
        "\n",
        "  etiquetas_predichas = torch.argmax(outputs.logits, dim=1)\n",
        "  etiquetas_decodificadas = etiquetas_predichas.tolist()\n",
        "\n",
        "  diccionario = {3: 'Continuacion', 10: 'Nombre', 2: 'Contacto', 13: 'Saludos', 14: 'Sentimiento', 9: 'Identidad', 15: 'Usuario', 6: 'ElProfeAlejo', 1: 'Aprendizaje', 0: 'Agradecimiento', 5: 'Edad', 4: 'Despedida', 11: 'Origen', 12: 'Otros', 7: 'Error', 8: 'Funcion'}\n",
        "  llave_buscada = etiquetas_decodificadas[0]\n",
        "  clase_encontrada = diccionario[llave_buscada]\n",
        "\n",
        "  #Buscar respuesta más parecida en la clase encontrada\n",
        "  df = df_dialogo[df_dialogo['tipo'] == clase_encontrada]\n",
        "  df.reset_index(inplace=True)\n",
        "  vectorizer = TfidfVectorizer()\n",
        "  dialogos_num = vectorizer.fit_transform(df['dialogo'])\n",
        "  pregunta_num = vectorizer.transform([tratamiento_texto(pregunta)])\n",
        "  similarity_scores = cosine_similarity(dialogos_num, pregunta_num)\n",
        "  indice_pregunta_proxima = similarity_scores.argmax()\n",
        "\n",
        "  if max(similarity_scores)>0.5 and clase_encontrada not in ['Otros']:\n",
        "    print('Respuesta encontrada por el modelo Transformers - tipo:',clase_encontrada)\n",
        "    respuesta = df['respuesta'][indice_pregunta_proxima]\n",
        "  else:\n",
        "    respuesta = ''\n",
        "  return respuesta\n",
        "\n",
        "# Función para devolver la respuesta de los documentos\n",
        "def respuesta_documento(pregunta):\n",
        "  pregunta = normalizar(pregunta)\n",
        "  def contar_coincidencias(frase):\n",
        "    return sum(1 for elemento in pregunta if elemento in frase)\n",
        "\n",
        "  diccionario = {valor: posicion for posicion, valor in enumerate(lista_frases_normalizadas)}\n",
        "  lista = sorted(list(diccionario.keys()), key=contar_coincidencias, reverse=True)[:100]\n",
        "\n",
        "  lista.append(''.join(pregunta))\n",
        "\n",
        "  TfidfVec = TfidfVectorizer(tokenizer=normalizar)\n",
        "  tfidf = TfidfVec.fit_transform(lista)\n",
        "\n",
        "  vals = cosine_similarity(tfidf[-1], tfidf)\n",
        "  idx = vals.argsort()[0][-2]\n",
        "  flat = vals.flatten()\n",
        "  flat.sort()\n",
        "  req_tfidf = round(flat[-2],2)\n",
        "  if req_tfidf>=0.22:\n",
        "    print('Respuesta encontrada por el método TfidfVectorizer - Probabilidad:', req_tfidf)\n",
        "    respuesta = lista_frases[diccionario[lista[idx]]]\n",
        "  else:\n",
        "    respuesta = ''\n",
        "  return respuesta\n",
        "\n",
        "# Función para devolver una respuesta final buscada en todos los métodos disponibles\n",
        "def respuesta_chatbot(pregunta):\n",
        "  respuesta = dialogo(pregunta)\n",
        "  if respuesta != '':\n",
        "    return respuesta\n",
        "  else:\n",
        "    respuesta = clasificacion_modelo(pregunta)\n",
        "    if respuesta != '':\n",
        "      return respuesta\n",
        "    else:\n",
        "      preg=pregunta\n",
        "      respuesta = respuesta_documento(preg)\n",
        "      if respuesta != '':\n",
        "        return respuesta\n",
        "      else:\n",
        "        return 'Respuesta no encontrada'"
      ],
      "metadata": {
        "id": "Bpxajyck3pav"
      },
      "execution_count": 35,
      "outputs": []
    },
    {
      "cell_type": "code",
      "source": [
        "dialogo('curso')"
      ],
      "metadata": {
        "colab": {
          "base_uri": "https://localhost:8080/",
          "height": 54
        },
        "id": "V649hrIzrFji",
        "outputId": "dadb1be7-aef6-437a-8b39-980dc8b21ec3"
      },
      "execution_count": 11,
      "outputs": [
        {
          "output_type": "stream",
          "name": "stdout",
          "text": [
            "Respuesta encontrada por el método de comparación de textos - Probabilidad:  1.0\n"
          ]
        },
        {
          "output_type": "execute_result",
          "data": {
            "text/plain": [
              "'Debes revisar el canal de ElProfeAlejo en Youtube'"
            ],
            "application/vnd.google.colaboratory.intrinsic+json": {
              "type": "string"
            }
          },
          "metadata": {},
          "execution_count": 11
        }
      ]
    },
    {
      "cell_type": "code",
      "source": [
        "# df_new=pd.read_csv('/content/drive/MyDrive/Chatbot/df_dialogo_spring_02.csv')\n",
        "# df_new.sample(5)"
      ],
      "metadata": {
        "id": "qJVB-zjXUw9T"
      },
      "execution_count": 12,
      "outputs": []
    },
    {
      "cell_type": "code",
      "source": [
        "import warnings\n",
        "warnings.filterwarnings(\"ignore\")"
      ],
      "metadata": {
        "id": "2J8SlRavDohi"
      },
      "execution_count": 13,
      "outputs": []
    },
    {
      "cell_type": "code",
      "source": [
        "import pandas as pd\n",
        "import os\n",
        "\n",
        "def cargar_dataframe():\n",
        "    carpeta = \"/content/drive/MyDrive/Chatbot\"\n",
        "    nombre_archivo = \"df_dialogo_spring_02.csv\"\n",
        "    archivo_csv = os.path.join(carpeta, nombre_archivo)\n",
        "\n",
        "    if os.path.exists(archivo_csv):\n",
        "        dataframe = pd.read_csv(archivo_csv)\n",
        "        return dataframe\n",
        "    else:\n",
        "        print(f\"El archivo {archivo_csv} no existe.\")\n",
        "        return None\n"
      ],
      "metadata": {
        "id": "jUWBRPvFgRda"
      },
      "execution_count": 14,
      "outputs": []
    },
    {
      "cell_type": "code",
      "source": [
        "cargar_dataframe()"
      ],
      "metadata": {
        "colab": {
          "base_uri": "https://localhost:8080/",
          "height": 423
        },
        "id": "0hkyU_qEhDWY",
        "outputId": "f7622429-e103-4a03-b290-4c64b5813436"
      },
      "execution_count": 15,
      "outputs": [
        {
          "output_type": "execute_result",
          "data": {
            "text/plain": [
              "                                dialogo  \\\n",
              "0     me interesa curso de programacion   \n",
              "1                  que servicios tienes   \n",
              "2                  escribe un modelo de   \n",
              "3                     cual es tu origen   \n",
              "4                               que sos   \n",
              "...                                 ...   \n",
              "1147                              no tu   \n",
              "1148                    vete pal diablo   \n",
              "1149                           dime mas   \n",
              "1150                                bye   \n",
              "1151                               vale   \n",
              "\n",
              "                                              respuesta          tipo  \\\n",
              "0     Debes revisar el canal de ElProfeAlejo en Youtube         Otros   \n",
              "1     Mi función es responder tus dudas sobre Cienci...       Funcion   \n",
              "2     No estoy programado para ayudarte con esto, só...         Otros   \n",
              "3     Fui desarrollado por ElProfeAlejo, utilizando ...        Origen   \n",
              "4     Me llamo Madre, ¡el chatbot más guay del barri...     Identidad   \n",
              "...                                                 ...           ...   \n",
              "1147          No, prefiero no responder a esa pregunta.         Otros   \n",
              "1148          ¡No digas eso! ¡Sé más respetuoso humano!         Otros   \n",
              "1149  Claro, déjame profundizar más en el tema, ¿de ...  Continuacion   \n",
              "1150                       ¡Hasta la próxima! ¡cuídate!     Despedida   \n",
              "1151                                   ¡Hasta la vista!     Despedida   \n",
              "\n",
              "      interseccion  jaro_winkler  probabilidad  similarity  \n",
              "0                1      0.583838      1.000000    0.590779  \n",
              "1                0      0.683333      0.683333    0.000000  \n",
              "2                0      0.683333      0.683333    0.000000  \n",
              "3                0      0.678431      0.678431    0.000000  \n",
              "4                0      0.676190      0.676190    0.000000  \n",
              "...            ...           ...           ...         ...  \n",
              "1147             0      0.000000      0.000000    0.000000  \n",
              "1148             0      0.000000      0.000000    0.000000  \n",
              "1149             0      0.000000      0.000000    0.000000  \n",
              "1150             0      0.000000      0.000000    0.000000  \n",
              "1151             0      0.000000      0.000000    0.000000  \n",
              "\n",
              "[1152 rows x 7 columns]"
            ],
            "text/html": [
              "\n",
              "  <div id=\"df-ba2fb878-2758-42a1-8848-26a27a386983\" class=\"colab-df-container\">\n",
              "    <div>\n",
              "<style scoped>\n",
              "    .dataframe tbody tr th:only-of-type {\n",
              "        vertical-align: middle;\n",
              "    }\n",
              "\n",
              "    .dataframe tbody tr th {\n",
              "        vertical-align: top;\n",
              "    }\n",
              "\n",
              "    .dataframe thead th {\n",
              "        text-align: right;\n",
              "    }\n",
              "</style>\n",
              "<table border=\"1\" class=\"dataframe\">\n",
              "  <thead>\n",
              "    <tr style=\"text-align: right;\">\n",
              "      <th></th>\n",
              "      <th>dialogo</th>\n",
              "      <th>respuesta</th>\n",
              "      <th>tipo</th>\n",
              "      <th>interseccion</th>\n",
              "      <th>jaro_winkler</th>\n",
              "      <th>probabilidad</th>\n",
              "      <th>similarity</th>\n",
              "    </tr>\n",
              "  </thead>\n",
              "  <tbody>\n",
              "    <tr>\n",
              "      <th>0</th>\n",
              "      <td>me interesa curso de programacion</td>\n",
              "      <td>Debes revisar el canal de ElProfeAlejo en Youtube</td>\n",
              "      <td>Otros</td>\n",
              "      <td>1</td>\n",
              "      <td>0.583838</td>\n",
              "      <td>1.000000</td>\n",
              "      <td>0.590779</td>\n",
              "    </tr>\n",
              "    <tr>\n",
              "      <th>1</th>\n",
              "      <td>que servicios tienes</td>\n",
              "      <td>Mi función es responder tus dudas sobre Cienci...</td>\n",
              "      <td>Funcion</td>\n",
              "      <td>0</td>\n",
              "      <td>0.683333</td>\n",
              "      <td>0.683333</td>\n",
              "      <td>0.000000</td>\n",
              "    </tr>\n",
              "    <tr>\n",
              "      <th>2</th>\n",
              "      <td>escribe un modelo de</td>\n",
              "      <td>No estoy programado para ayudarte con esto, só...</td>\n",
              "      <td>Otros</td>\n",
              "      <td>0</td>\n",
              "      <td>0.683333</td>\n",
              "      <td>0.683333</td>\n",
              "      <td>0.000000</td>\n",
              "    </tr>\n",
              "    <tr>\n",
              "      <th>3</th>\n",
              "      <td>cual es tu origen</td>\n",
              "      <td>Fui desarrollado por ElProfeAlejo, utilizando ...</td>\n",
              "      <td>Origen</td>\n",
              "      <td>0</td>\n",
              "      <td>0.678431</td>\n",
              "      <td>0.678431</td>\n",
              "      <td>0.000000</td>\n",
              "    </tr>\n",
              "    <tr>\n",
              "      <th>4</th>\n",
              "      <td>que sos</td>\n",
              "      <td>Me llamo Madre, ¡el chatbot más guay del barri...</td>\n",
              "      <td>Identidad</td>\n",
              "      <td>0</td>\n",
              "      <td>0.676190</td>\n",
              "      <td>0.676190</td>\n",
              "      <td>0.000000</td>\n",
              "    </tr>\n",
              "    <tr>\n",
              "      <th>...</th>\n",
              "      <td>...</td>\n",
              "      <td>...</td>\n",
              "      <td>...</td>\n",
              "      <td>...</td>\n",
              "      <td>...</td>\n",
              "      <td>...</td>\n",
              "      <td>...</td>\n",
              "    </tr>\n",
              "    <tr>\n",
              "      <th>1147</th>\n",
              "      <td>no tu</td>\n",
              "      <td>No, prefiero no responder a esa pregunta.</td>\n",
              "      <td>Otros</td>\n",
              "      <td>0</td>\n",
              "      <td>0.000000</td>\n",
              "      <td>0.000000</td>\n",
              "      <td>0.000000</td>\n",
              "    </tr>\n",
              "    <tr>\n",
              "      <th>1148</th>\n",
              "      <td>vete pal diablo</td>\n",
              "      <td>¡No digas eso! ¡Sé más respetuoso humano!</td>\n",
              "      <td>Otros</td>\n",
              "      <td>0</td>\n",
              "      <td>0.000000</td>\n",
              "      <td>0.000000</td>\n",
              "      <td>0.000000</td>\n",
              "    </tr>\n",
              "    <tr>\n",
              "      <th>1149</th>\n",
              "      <td>dime mas</td>\n",
              "      <td>Claro, déjame profundizar más en el tema, ¿de ...</td>\n",
              "      <td>Continuacion</td>\n",
              "      <td>0</td>\n",
              "      <td>0.000000</td>\n",
              "      <td>0.000000</td>\n",
              "      <td>0.000000</td>\n",
              "    </tr>\n",
              "    <tr>\n",
              "      <th>1150</th>\n",
              "      <td>bye</td>\n",
              "      <td>¡Hasta la próxima! ¡cuídate!</td>\n",
              "      <td>Despedida</td>\n",
              "      <td>0</td>\n",
              "      <td>0.000000</td>\n",
              "      <td>0.000000</td>\n",
              "      <td>0.000000</td>\n",
              "    </tr>\n",
              "    <tr>\n",
              "      <th>1151</th>\n",
              "      <td>vale</td>\n",
              "      <td>¡Hasta la vista!</td>\n",
              "      <td>Despedida</td>\n",
              "      <td>0</td>\n",
              "      <td>0.000000</td>\n",
              "      <td>0.000000</td>\n",
              "      <td>0.000000</td>\n",
              "    </tr>\n",
              "  </tbody>\n",
              "</table>\n",
              "<p>1152 rows × 7 columns</p>\n",
              "</div>\n",
              "    <div class=\"colab-df-buttons\">\n",
              "\n",
              "  <div class=\"colab-df-container\">\n",
              "    <button class=\"colab-df-convert\" onclick=\"convertToInteractive('df-ba2fb878-2758-42a1-8848-26a27a386983')\"\n",
              "            title=\"Convert this dataframe to an interactive table.\"\n",
              "            style=\"display:none;\">\n",
              "\n",
              "  <svg xmlns=\"http://www.w3.org/2000/svg\" height=\"24px\" viewBox=\"0 -960 960 960\">\n",
              "    <path d=\"M120-120v-720h720v720H120Zm60-500h600v-160H180v160Zm220 220h160v-160H400v160Zm0 220h160v-160H400v160ZM180-400h160v-160H180v160Zm440 0h160v-160H620v160ZM180-180h160v-160H180v160Zm440 0h160v-160H620v160Z\"/>\n",
              "  </svg>\n",
              "    </button>\n",
              "\n",
              "  <style>\n",
              "    .colab-df-container {\n",
              "      display:flex;\n",
              "      gap: 12px;\n",
              "    }\n",
              "\n",
              "    .colab-df-convert {\n",
              "      background-color: #E8F0FE;\n",
              "      border: none;\n",
              "      border-radius: 50%;\n",
              "      cursor: pointer;\n",
              "      display: none;\n",
              "      fill: #1967D2;\n",
              "      height: 32px;\n",
              "      padding: 0 0 0 0;\n",
              "      width: 32px;\n",
              "    }\n",
              "\n",
              "    .colab-df-convert:hover {\n",
              "      background-color: #E2EBFA;\n",
              "      box-shadow: 0px 1px 2px rgba(60, 64, 67, 0.3), 0px 1px 3px 1px rgba(60, 64, 67, 0.15);\n",
              "      fill: #174EA6;\n",
              "    }\n",
              "\n",
              "    .colab-df-buttons div {\n",
              "      margin-bottom: 4px;\n",
              "    }\n",
              "\n",
              "    [theme=dark] .colab-df-convert {\n",
              "      background-color: #3B4455;\n",
              "      fill: #D2E3FC;\n",
              "    }\n",
              "\n",
              "    [theme=dark] .colab-df-convert:hover {\n",
              "      background-color: #434B5C;\n",
              "      box-shadow: 0px 1px 3px 1px rgba(0, 0, 0, 0.15);\n",
              "      filter: drop-shadow(0px 1px 2px rgba(0, 0, 0, 0.3));\n",
              "      fill: #FFFFFF;\n",
              "    }\n",
              "  </style>\n",
              "\n",
              "    <script>\n",
              "      const buttonEl =\n",
              "        document.querySelector('#df-ba2fb878-2758-42a1-8848-26a27a386983 button.colab-df-convert');\n",
              "      buttonEl.style.display =\n",
              "        google.colab.kernel.accessAllowed ? 'block' : 'none';\n",
              "\n",
              "      async function convertToInteractive(key) {\n",
              "        const element = document.querySelector('#df-ba2fb878-2758-42a1-8848-26a27a386983');\n",
              "        const dataTable =\n",
              "          await google.colab.kernel.invokeFunction('convertToInteractive',\n",
              "                                                    [key], {});\n",
              "        if (!dataTable) return;\n",
              "\n",
              "        const docLinkHtml = 'Like what you see? Visit the ' +\n",
              "          '<a target=\"_blank\" href=https://colab.research.google.com/notebooks/data_table.ipynb>data table notebook</a>'\n",
              "          + ' to learn more about interactive tables.';\n",
              "        element.innerHTML = '';\n",
              "        dataTable['output_type'] = 'display_data';\n",
              "        await google.colab.output.renderOutput(dataTable, element);\n",
              "        const docLink = document.createElement('div');\n",
              "        docLink.innerHTML = docLinkHtml;\n",
              "        element.appendChild(docLink);\n",
              "      }\n",
              "    </script>\n",
              "  </div>\n",
              "\n",
              "\n",
              "<div id=\"df-a194d9eb-1d03-4162-bcd0-604ebe6a4e52\">\n",
              "  <button class=\"colab-df-quickchart\" onclick=\"quickchart('df-a194d9eb-1d03-4162-bcd0-604ebe6a4e52')\"\n",
              "            title=\"Suggest charts.\"\n",
              "            style=\"display:none;\">\n",
              "\n",
              "<svg xmlns=\"http://www.w3.org/2000/svg\" height=\"24px\"viewBox=\"0 0 24 24\"\n",
              "     width=\"24px\">\n",
              "    <g>\n",
              "        <path d=\"M19 3H5c-1.1 0-2 .9-2 2v14c0 1.1.9 2 2 2h14c1.1 0 2-.9 2-2V5c0-1.1-.9-2-2-2zM9 17H7v-7h2v7zm4 0h-2V7h2v10zm4 0h-2v-4h2v4z\"/>\n",
              "    </g>\n",
              "</svg>\n",
              "  </button>\n",
              "\n",
              "<style>\n",
              "  .colab-df-quickchart {\n",
              "      --bg-color: #E8F0FE;\n",
              "      --fill-color: #1967D2;\n",
              "      --hover-bg-color: #E2EBFA;\n",
              "      --hover-fill-color: #174EA6;\n",
              "      --disabled-fill-color: #AAA;\n",
              "      --disabled-bg-color: #DDD;\n",
              "  }\n",
              "\n",
              "  [theme=dark] .colab-df-quickchart {\n",
              "      --bg-color: #3B4455;\n",
              "      --fill-color: #D2E3FC;\n",
              "      --hover-bg-color: #434B5C;\n",
              "      --hover-fill-color: #FFFFFF;\n",
              "      --disabled-bg-color: #3B4455;\n",
              "      --disabled-fill-color: #666;\n",
              "  }\n",
              "\n",
              "  .colab-df-quickchart {\n",
              "    background-color: var(--bg-color);\n",
              "    border: none;\n",
              "    border-radius: 50%;\n",
              "    cursor: pointer;\n",
              "    display: none;\n",
              "    fill: var(--fill-color);\n",
              "    height: 32px;\n",
              "    padding: 0;\n",
              "    width: 32px;\n",
              "  }\n",
              "\n",
              "  .colab-df-quickchart:hover {\n",
              "    background-color: var(--hover-bg-color);\n",
              "    box-shadow: 0 1px 2px rgba(60, 64, 67, 0.3), 0 1px 3px 1px rgba(60, 64, 67, 0.15);\n",
              "    fill: var(--button-hover-fill-color);\n",
              "  }\n",
              "\n",
              "  .colab-df-quickchart-complete:disabled,\n",
              "  .colab-df-quickchart-complete:disabled:hover {\n",
              "    background-color: var(--disabled-bg-color);\n",
              "    fill: var(--disabled-fill-color);\n",
              "    box-shadow: none;\n",
              "  }\n",
              "\n",
              "  .colab-df-spinner {\n",
              "    border: 2px solid var(--fill-color);\n",
              "    border-color: transparent;\n",
              "    border-bottom-color: var(--fill-color);\n",
              "    animation:\n",
              "      spin 1s steps(1) infinite;\n",
              "  }\n",
              "\n",
              "  @keyframes spin {\n",
              "    0% {\n",
              "      border-color: transparent;\n",
              "      border-bottom-color: var(--fill-color);\n",
              "      border-left-color: var(--fill-color);\n",
              "    }\n",
              "    20% {\n",
              "      border-color: transparent;\n",
              "      border-left-color: var(--fill-color);\n",
              "      border-top-color: var(--fill-color);\n",
              "    }\n",
              "    30% {\n",
              "      border-color: transparent;\n",
              "      border-left-color: var(--fill-color);\n",
              "      border-top-color: var(--fill-color);\n",
              "      border-right-color: var(--fill-color);\n",
              "    }\n",
              "    40% {\n",
              "      border-color: transparent;\n",
              "      border-right-color: var(--fill-color);\n",
              "      border-top-color: var(--fill-color);\n",
              "    }\n",
              "    60% {\n",
              "      border-color: transparent;\n",
              "      border-right-color: var(--fill-color);\n",
              "    }\n",
              "    80% {\n",
              "      border-color: transparent;\n",
              "      border-right-color: var(--fill-color);\n",
              "      border-bottom-color: var(--fill-color);\n",
              "    }\n",
              "    90% {\n",
              "      border-color: transparent;\n",
              "      border-bottom-color: var(--fill-color);\n",
              "    }\n",
              "  }\n",
              "</style>\n",
              "\n",
              "  <script>\n",
              "    async function quickchart(key) {\n",
              "      const quickchartButtonEl =\n",
              "        document.querySelector('#' + key + ' button');\n",
              "      quickchartButtonEl.disabled = true;  // To prevent multiple clicks.\n",
              "      quickchartButtonEl.classList.add('colab-df-spinner');\n",
              "      try {\n",
              "        const charts = await google.colab.kernel.invokeFunction(\n",
              "            'suggestCharts', [key], {});\n",
              "      } catch (error) {\n",
              "        console.error('Error during call to suggestCharts:', error);\n",
              "      }\n",
              "      quickchartButtonEl.classList.remove('colab-df-spinner');\n",
              "      quickchartButtonEl.classList.add('colab-df-quickchart-complete');\n",
              "    }\n",
              "    (() => {\n",
              "      let quickchartButtonEl =\n",
              "        document.querySelector('#df-a194d9eb-1d03-4162-bcd0-604ebe6a4e52 button');\n",
              "      quickchartButtonEl.style.display =\n",
              "        google.colab.kernel.accessAllowed ? 'block' : 'none';\n",
              "    })();\n",
              "  </script>\n",
              "</div>\n",
              "    </div>\n",
              "  </div>\n"
            ]
          },
          "metadata": {},
          "execution_count": 15
        }
      ]
    },
    {
      "cell_type": "markdown",
      "source": [
        "# 6. Ejecutar Chatbot"
      ],
      "metadata": {
        "id": "LMEwexpz4gdI"
      }
    },
    {
      "cell_type": "code",
      "source": [
        "pregunta=\"ciencia de datos profe alejo?\"\n",
        "print('tokens pregunta: ',normalizar(pregunta))\n",
        "print(\"Respuesta:\")\n",
        "respuesta_documento(pregunta)"
      ],
      "metadata": {
        "colab": {
          "base_uri": "https://localhost:8080/",
          "height": 127
        },
        "id": "r69T28VeLA3l",
        "outputId": "8b6ce219-f1c8-4972-bc4f-45c1cca49b7b"
      },
      "execution_count": 16,
      "outputs": [
        {
          "output_type": "stream",
          "name": "stdout",
          "text": [
            "tokens pregunta:  ['elprofealejo', 'datascience', 'ciencia', 'dato', 'profe', 'alejo']\n",
            "Respuesta:\n",
            "Respuesta encontrada por el método TfidfVectorizer - Probabilidad: 0.97\n"
          ]
        },
        {
          "output_type": "execute_result",
          "data": {
            "text/plain": [
              "'Actualmente, ElProfeAlejo trabaja como Especialista Global Big Data en la empresa Telefónica España, forma parte del equipo de Global Processing Environment y trabaja en la extracción de datos de clientes, cálculo de KPI, análisis, modelado y preparación de informes y paneles de control según las necesidades del equipo Global de BI, además, está involucrado en proyectos como AURA La Inteligencia Artificial de Telefónica y URM Project Universal Reference Model.'"
            ],
            "application/vnd.google.colaboratory.intrinsic+json": {
              "type": "string"
            }
          },
          "metadata": {},
          "execution_count": 16
        }
      ]
    },
    {
      "cell_type": "code",
      "source": [
        "from time import time"
      ],
      "metadata": {
        "id": "zVdXwsZhDzdN"
      },
      "execution_count": 17,
      "outputs": []
    },
    {
      "cell_type": "code",
      "source": [
        "def conversar(pregunta):\n",
        "  t0 = time()\n",
        "  respuesta = respuesta_chatbot(pregunta)\n",
        "  tf = round(time()-t0,1)\n",
        "  print(f'Tiempo de respuesta: {tf} seg')\n",
        "  print('-----------------------------------------------------------------')\n",
        "  print('Conversación: ',pregunta)\n",
        "  print('-----------------------------------------------------------------')\n",
        "  print(respuesta)\n",
        "  print('-----------------------------------------------------------------')"
      ],
      "metadata": {
        "id": "wVElEooIRJit"
      },
      "execution_count": 18,
      "outputs": []
    },
    {
      "cell_type": "code",
      "source": [
        "conversar('cursos fundamento')"
      ],
      "metadata": {
        "colab": {
          "base_uri": "https://localhost:8080/"
        },
        "id": "lcjVNIQJEY_F",
        "outputId": "4b9b209f-0528-45ae-fa6d-b0e60289dde0"
      },
      "execution_count": 19,
      "outputs": [
        {
          "output_type": "stream",
          "name": "stdout",
          "text": [
            "Respuesta encontrada por el método TfidfVectorizer - Probabilidad: 0.87\n",
            "Tiempo de respuesta: 23.5 seg\n",
            "-----------------------------------------------------------------\n",
            "Conversación:  cursos fundamento\n",
            "-----------------------------------------------------------------\n",
            "Puedes encontrar a ElProfeAlejo en sus redes sociales favoritas como Youtube, Facebook y Linkedin, pregúntame por alguna de ellas que con gusto te las indico.\n",
            "-----------------------------------------------------------------\n"
          ]
        }
      ]
    },
    {
      "cell_type": "code",
      "source": [
        "conversar('cuentame de la ciencia de datos profe alejo')"
      ],
      "metadata": {
        "colab": {
          "base_uri": "https://localhost:8080/"
        },
        "id": "vBY10R1AqNKK",
        "outputId": "0e9fbf1d-7dd8-4404-e401-c501da2bc482"
      },
      "execution_count": 20,
      "outputs": [
        {
          "output_type": "stream",
          "name": "stdout",
          "text": [
            "Respuesta encontrada por el método TfidfVectorizer - Probabilidad: 0.97\n",
            "Tiempo de respuesta: 21.9 seg\n",
            "-----------------------------------------------------------------\n",
            "Conversación:  cuentame de la ciencia de datos profe alejo\n",
            "-----------------------------------------------------------------\n",
            "Actualmente, ElProfeAlejo trabaja como Especialista Global Big Data en la empresa Telefónica España, forma parte del equipo de Global Processing Environment y trabaja en la extracción de datos de clientes, cálculo de KPI, análisis, modelado y preparación de informes y paneles de control según las necesidades del equipo Global de BI, además, está involucrado en proyectos como AURA La Inteligencia Artificial de Telefónica y URM Project Universal Reference Model.\n",
            "-----------------------------------------------------------------\n"
          ]
        }
      ]
    },
    {
      "cell_type": "code",
      "source": [
        "conversar(\"de que se trata la ciencia de datos y el profe alejo\")"
      ],
      "metadata": {
        "colab": {
          "base_uri": "https://localhost:8080/"
        },
        "id": "X_wq8HMP4hmU",
        "outputId": "6477dd71-9c60-481b-dc14-fc203af73e78"
      },
      "execution_count": 23,
      "outputs": [
        {
          "output_type": "stream",
          "name": "stdout",
          "text": [
            "Respuesta encontrada por el método TfidfVectorizer - Probabilidad: 0.96\n",
            "Tiempo de respuesta: 21.2 seg\n",
            "-----------------------------------------------------------------\n",
            "Conversación:  de que se trata la ciencia de datos y el profe alejo\n",
            "-----------------------------------------------------------------\n",
            "En abril del 2002, el ‘International Council for Science: Committee on Data for Science and Technology’ (CODATA) empezó la publicación del Data Science Journal, enfocada en problemas como la descripción de sistemas de datos, su publicación en Internet, sus aplicaciones, y sus problemas legales, poco después, en enero del 2003, la Universidad de Columbia empezó a publicar The Journal of Data Science, la cual ofreció una plataforma para que todos los profesionales de datos presentaran sus perspectivas e intercambiaran ideas.\n",
            "-----------------------------------------------------------------\n"
          ]
        }
      ]
    },
    {
      "cell_type": "code",
      "source": [
        "conversar('como te llamas?')"
      ],
      "metadata": {
        "colab": {
          "base_uri": "https://localhost:8080/"
        },
        "id": "hMMayzPvEadZ",
        "outputId": "9dc0b804-6038-4345-a90d-88e2b16c0d23"
      },
      "execution_count": 24,
      "outputs": [
        {
          "output_type": "stream",
          "name": "stdout",
          "text": [
            "Respuesta encontrada por el método de comparación de textos - Probabilidad:  1.0\n",
            "Tiempo de respuesta: 18.3 seg\n",
            "-----------------------------------------------------------------\n",
            "Conversación:  como te llamas?\n",
            "-----------------------------------------------------------------\n",
            "Me llamo X-Bot hijo de Madre. ¿Y tú?\n",
            "-----------------------------------------------------------------\n"
          ]
        }
      ]
    },
    {
      "cell_type": "code",
      "source": [
        "conversar('como te llamas amigo?')"
      ],
      "metadata": {
        "colab": {
          "base_uri": "https://localhost:8080/"
        },
        "id": "R9vUM_wNEkM-",
        "outputId": "a982c5f5-7da8-4df8-ce4e-391d0267e669"
      },
      "execution_count": 25,
      "outputs": [
        {
          "output_type": "stream",
          "name": "stdout",
          "text": [
            "Respuesta encontrada por el método de comparación de textos - Probabilidad:  0.94\n",
            "Tiempo de respuesta: 18.4 seg\n",
            "-----------------------------------------------------------------\n",
            "Conversación:  como te llamas amigo?\n",
            "-----------------------------------------------------------------\n",
            "Me llamo X-Bot hijo de Madre, ¡el chatbot más guay del barrio! ¿Y tú?\n",
            "-----------------------------------------------------------------\n"
          ]
        }
      ]
    },
    {
      "cell_type": "code",
      "source": [
        "conversar('que es un cientifico de datos?')"
      ],
      "metadata": {
        "colab": {
          "base_uri": "https://localhost:8080/"
        },
        "outputId": "c9674cf8-e359-4f53-d3e9-b85ab6c27f2c",
        "id": "fcV75wIeE8Zt"
      },
      "execution_count": 26,
      "outputs": [
        {
          "output_type": "stream",
          "name": "stdout",
          "text": [
            "Respuesta encontrada por el método TfidfVectorizer - Probabilidad: 0.94\n",
            "Tiempo de respuesta: 20.2 seg\n",
            "-----------------------------------------------------------------\n",
            "Conversación:  que es un cientifico de datos?\n",
            "-----------------------------------------------------------------\n",
            "La ciencia de datos es multifacética y puede describirse como una ciencia, un paradigma de investigación, un método de investigación, una disciplina, un flujo de trabajo o una profesión.\n",
            "-----------------------------------------------------------------\n"
          ]
        }
      ]
    },
    {
      "cell_type": "code",
      "source": [
        "conversar('Cómo estás?')"
      ],
      "metadata": {
        "colab": {
          "base_uri": "https://localhost:8080/"
        },
        "outputId": "e2f53656-3961-4c28-bc93-6e3947c0674d",
        "id": "Y7afgSJL_zYr"
      },
      "execution_count": 38,
      "outputs": [
        {
          "output_type": "stream",
          "name": "stdout",
          "text": [
            "Respuesta encontrada por el método de comparación de textos - Probabilidad:  1.0\n",
            "Tiempo de respuesta: 18.2 seg\n",
            "-----------------------------------------------------------------\n",
            "Conversación:  Cómo estás?\n",
            "-----------------------------------------------------------------\n",
            "Estoy bien, gracias por preguntar.\n",
            "-----------------------------------------------------------------\n"
          ]
        }
      ]
    },
    {
      "cell_type": "code",
      "source": [
        "conversar('Cómo estás cuentame?')"
      ],
      "metadata": {
        "colab": {
          "base_uri": "https://localhost:8080/"
        },
        "id": "xUsQBW35SLJB",
        "outputId": "d817702f-964f-499a-b8d9-9a5dd9b2f3f1"
      },
      "execution_count": 37,
      "outputs": [
        {
          "output_type": "stream",
          "name": "stdout",
          "text": [
            "Respuesta encontrada por el método TfidfVectorizer - Probabilidad: 0.72\n",
            "Tiempo de respuesta: 23.5 seg\n",
            "-----------------------------------------------------------------\n",
            "Conversación:  Cómo estás cuentame?\n",
            "-----------------------------------------------------------------\n",
            "ElProfeAlejo trabajó como Analista de Business Intelligence en la empresa Movistar Perú, responsable por la selección de clientes objetivo para campañas de marketing, clasificación y entrega de bases de datos de clientes a terceros, y creación de presentaciones de resultados para los propietarios de productos, durante su tiempo en Movistar, participó en proyectos como Next Best Offer, Campaign Delivery Robot, Marketing Campaign Website y Datamart Customer 360°.\n",
            "-----------------------------------------------------------------\n"
          ]
        }
      ]
    },
    {
      "cell_type": "code",
      "source": [
        "conversar('amigo?')"
      ],
      "metadata": {
        "colab": {
          "base_uri": "https://localhost:8080/"
        },
        "outputId": "6b0c9396-2446-438e-fd26-d46aaa8424d3",
        "id": "sRuVRBKc_NMP"
      },
      "execution_count": 29,
      "outputs": [
        {
          "output_type": "stream",
          "name": "stdout",
          "text": [
            "Respuesta encontrada por el método de comparación de textos - Probabilidad:  1.0\n",
            "Tiempo de respuesta: 18.4 seg\n",
            "-----------------------------------------------------------------\n",
            "Conversación:  amigo?\n",
            "-----------------------------------------------------------------\n",
            "¡Hola! ¿Cómo estás?\n",
            "-----------------------------------------------------------------\n"
          ]
        }
      ]
    },
    {
      "cell_type": "code",
      "source": [
        "conversar('que es big data?')"
      ],
      "metadata": {
        "colab": {
          "base_uri": "https://localhost:8080/"
        },
        "outputId": "ebf947b4-b2fb-43b5-b879-1f0265b203a7",
        "id": "sVpwtUfR_d5z"
      },
      "execution_count": 36,
      "outputs": [
        {
          "output_type": "stream",
          "name": "stdout",
          "text": [
            "Respuesta encontrada por el método TfidfVectorizer - Probabilidad: 0.91\n",
            "Tiempo de respuesta: 21.6 seg\n",
            "-----------------------------------------------------------------\n",
            "Conversación:  que es big data?\n",
            "-----------------------------------------------------------------\n",
            "En 1977, John W Tukey publicó “Exploratory Data Analysis”, argumentando que era necesario poner más énfasis en el uso de datos para sugerir hipótesis que probar en modelos estadísticos.\n",
            "-----------------------------------------------------------------\n"
          ]
        }
      ]
    },
    {
      "cell_type": "code",
      "source": [
        "conversar('La ciencia de datos es')"
      ],
      "metadata": {
        "colab": {
          "base_uri": "https://localhost:8080/"
        },
        "id": "6SrIIgSfZ1mV",
        "outputId": "82f11959-06b8-49dc-a42a-bfeffb969c9e"
      },
      "execution_count": 31,
      "outputs": [
        {
          "output_type": "stream",
          "name": "stdout",
          "text": [
            "Respuesta encontrada por el modelo Transformers - tipo: Funcion\n",
            "Tiempo de respuesta: 18.6 seg\n",
            "-----------------------------------------------------------------\n",
            "Conversación:  La ciencia de datos es\n",
            "-----------------------------------------------------------------\n",
            "Estoy familiarizado con una amplia gama de herramientas populares como Python, R, SQL, TensorFlow, scikit-learn, y muchas más. Cuéntame qué necesitas y te ayudaré.\n",
            "-----------------------------------------------------------------\n"
          ]
        }
      ]
    },
    {
      "cell_type": "code",
      "source": [
        "conversar('cientifico de datos?')"
      ],
      "metadata": {
        "colab": {
          "base_uri": "https://localhost:8080/"
        },
        "id": "GYl4OZoMaxFS",
        "outputId": "ac171b11-7512-4ca6-aba5-6de9f9c08945"
      },
      "execution_count": 32,
      "outputs": [
        {
          "output_type": "stream",
          "name": "stdout",
          "text": [
            "Respuesta encontrada por el método TfidfVectorizer - Probabilidad: 0.92\n",
            "Tiempo de respuesta: 20.3 seg\n",
            "-----------------------------------------------------------------\n",
            "Conversación:  cientifico de datos?\n",
            "-----------------------------------------------------------------\n",
            "La ciencia de datos utiliza métodos, técnicas y teorías extraídas de muchos campos dentro del contexto de las matemáticas, las estadísticas, las ciencias de la computación, las ciencias de la información y el conocimiento del dominio.\n",
            "-----------------------------------------------------------------\n"
          ]
        }
      ]
    },
    {
      "cell_type": "code",
      "source": [
        "conversar('que cursos hay')"
      ],
      "metadata": {
        "colab": {
          "base_uri": "https://localhost:8080/"
        },
        "id": "4uG-FGj4IZHf",
        "outputId": "dc77b3c4-723a-4a52-d7d1-d040f628ea63"
      },
      "execution_count": 33,
      "outputs": [
        {
          "output_type": "stream",
          "name": "stdout",
          "text": [
            "Respuesta encontrada por el método TfidfVectorizer - Probabilidad: 0.86\n",
            "Tiempo de respuesta: 28.6 seg\n",
            "-----------------------------------------------------------------\n",
            "Conversación:  que cursos hay\n",
            "-----------------------------------------------------------------\n",
            "En 1977, John W Tukey publicó “Exploratory Data Analysis”, argumentando que era necesario poner más énfasis en el uso de datos para sugerir hipótesis que probar en modelos estadísticos.\n",
            "-----------------------------------------------------------------\n"
          ]
        }
      ]
    },
    {
      "cell_type": "code",
      "source": [
        "conversar('chau bot')"
      ],
      "metadata": {
        "colab": {
          "base_uri": "https://localhost:8080/"
        },
        "id": "RRHvIjGfpKJ5",
        "outputId": "b831d856-673d-476a-ecd3-df9922926777"
      },
      "execution_count": 34,
      "outputs": [
        {
          "output_type": "stream",
          "name": "stdout",
          "text": [
            "Respuesta encontrada por el método de comparación de textos - Probabilidad:  1.0\n",
            "Tiempo de respuesta: 22.5 seg\n",
            "-----------------------------------------------------------------\n",
            "Conversación:  chau bot\n",
            "-----------------------------------------------------------------\n",
            "¡Hasta la próxima!\n",
            "-----------------------------------------------------------------\n"
          ]
        }
      ]
    }
  ]
}